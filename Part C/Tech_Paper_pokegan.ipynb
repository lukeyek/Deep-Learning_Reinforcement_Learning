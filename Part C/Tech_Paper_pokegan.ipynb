{
 "cells": [
  {
   "cell_type": "markdown",
   "metadata": {
    "id": "SXcy02TtTYpp"
   },
   "source": [
    "# Import Libraries\n"
   ]
  },
  {
   "cell_type": "code",
   "execution_count": null,
   "metadata": {
    "id": "9GFVArSYQ4VK"
   },
   "outputs": [],
   "source": [
    "from torch.utils.data import DataLoader, ConcatDataset\n",
    "from torchvision.datasets import ImageFolder\n",
    "import torchvision.transforms as T"
   ]
  },
  {
   "cell_type": "markdown",
   "metadata": {
    "id": "oI_yJKsxTK13"
   },
   "source": [
    "Upload pokemon zipped file on colab"
   ]
  },
  {
   "cell_type": "code",
   "execution_count": 1,
   "metadata": {
    "colab": {
     "base_uri": "https://localhost:8080/",
     "height": 71
    },
    "id": "JAN7P7opSPnQ",
    "outputId": "ee33a053-59ed-44b7-8291-d77ddb30eaaf"
   },
   "outputs": [
    {
     "data": {
      "text/html": [
       "\n",
       "     <input type=\"file\" id=\"files-fe13c477-f630-401c-bd91-c881618fc116\" name=\"files[]\" multiple disabled\n",
       "        style=\"border:none\" />\n",
       "     <output id=\"result-fe13c477-f630-401c-bd91-c881618fc116\">\n",
       "      Upload widget is only available when the cell has been executed in the\n",
       "      current browser session. Please rerun this cell to enable.\n",
       "      </output>\n",
       "      <script>// Copyright 2017 Google LLC\n",
       "//\n",
       "// Licensed under the Apache License, Version 2.0 (the \"License\");\n",
       "// you may not use this file except in compliance with the License.\n",
       "// You may obtain a copy of the License at\n",
       "//\n",
       "//      http://www.apache.org/licenses/LICENSE-2.0\n",
       "//\n",
       "// Unless required by applicable law or agreed to in writing, software\n",
       "// distributed under the License is distributed on an \"AS IS\" BASIS,\n",
       "// WITHOUT WARRANTIES OR CONDITIONS OF ANY KIND, either express or implied.\n",
       "// See the License for the specific language governing permissions and\n",
       "// limitations under the License.\n",
       "\n",
       "/**\n",
       " * @fileoverview Helpers for google.colab Python module.\n",
       " */\n",
       "(function(scope) {\n",
       "function span(text, styleAttributes = {}) {\n",
       "  const element = document.createElement('span');\n",
       "  element.textContent = text;\n",
       "  for (const key of Object.keys(styleAttributes)) {\n",
       "    element.style[key] = styleAttributes[key];\n",
       "  }\n",
       "  return element;\n",
       "}\n",
       "\n",
       "// Max number of bytes which will be uploaded at a time.\n",
       "const MAX_PAYLOAD_SIZE = 100 * 1024;\n",
       "\n",
       "function _uploadFiles(inputId, outputId) {\n",
       "  const steps = uploadFilesStep(inputId, outputId);\n",
       "  const outputElement = document.getElementById(outputId);\n",
       "  // Cache steps on the outputElement to make it available for the next call\n",
       "  // to uploadFilesContinue from Python.\n",
       "  outputElement.steps = steps;\n",
       "\n",
       "  return _uploadFilesContinue(outputId);\n",
       "}\n",
       "\n",
       "// This is roughly an async generator (not supported in the browser yet),\n",
       "// where there are multiple asynchronous steps and the Python side is going\n",
       "// to poll for completion of each step.\n",
       "// This uses a Promise to block the python side on completion of each step,\n",
       "// then passes the result of the previous step as the input to the next step.\n",
       "function _uploadFilesContinue(outputId) {\n",
       "  const outputElement = document.getElementById(outputId);\n",
       "  const steps = outputElement.steps;\n",
       "\n",
       "  const next = steps.next(outputElement.lastPromiseValue);\n",
       "  return Promise.resolve(next.value.promise).then((value) => {\n",
       "    // Cache the last promise value to make it available to the next\n",
       "    // step of the generator.\n",
       "    outputElement.lastPromiseValue = value;\n",
       "    return next.value.response;\n",
       "  });\n",
       "}\n",
       "\n",
       "/**\n",
       " * Generator function which is called between each async step of the upload\n",
       " * process.\n",
       " * @param {string} inputId Element ID of the input file picker element.\n",
       " * @param {string} outputId Element ID of the output display.\n",
       " * @return {!Iterable<!Object>} Iterable of next steps.\n",
       " */\n",
       "function* uploadFilesStep(inputId, outputId) {\n",
       "  const inputElement = document.getElementById(inputId);\n",
       "  inputElement.disabled = false;\n",
       "\n",
       "  const outputElement = document.getElementById(outputId);\n",
       "  outputElement.innerHTML = '';\n",
       "\n",
       "  const pickedPromise = new Promise((resolve) => {\n",
       "    inputElement.addEventListener('change', (e) => {\n",
       "      resolve(e.target.files);\n",
       "    });\n",
       "  });\n",
       "\n",
       "  const cancel = document.createElement('button');\n",
       "  inputElement.parentElement.appendChild(cancel);\n",
       "  cancel.textContent = 'Cancel upload';\n",
       "  const cancelPromise = new Promise((resolve) => {\n",
       "    cancel.onclick = () => {\n",
       "      resolve(null);\n",
       "    };\n",
       "  });\n",
       "\n",
       "  // Wait for the user to pick the files.\n",
       "  const files = yield {\n",
       "    promise: Promise.race([pickedPromise, cancelPromise]),\n",
       "    response: {\n",
       "      action: 'starting',\n",
       "    }\n",
       "  };\n",
       "\n",
       "  cancel.remove();\n",
       "\n",
       "  // Disable the input element since further picks are not allowed.\n",
       "  inputElement.disabled = true;\n",
       "\n",
       "  if (!files) {\n",
       "    return {\n",
       "      response: {\n",
       "        action: 'complete',\n",
       "      }\n",
       "    };\n",
       "  }\n",
       "\n",
       "  for (const file of files) {\n",
       "    const li = document.createElement('li');\n",
       "    li.append(span(file.name, {fontWeight: 'bold'}));\n",
       "    li.append(span(\n",
       "        `(${file.type || 'n/a'}) - ${file.size} bytes, ` +\n",
       "        `last modified: ${\n",
       "            file.lastModifiedDate ? file.lastModifiedDate.toLocaleDateString() :\n",
       "                                    'n/a'} - `));\n",
       "    const percent = span('0% done');\n",
       "    li.appendChild(percent);\n",
       "\n",
       "    outputElement.appendChild(li);\n",
       "\n",
       "    const fileDataPromise = new Promise((resolve) => {\n",
       "      const reader = new FileReader();\n",
       "      reader.onload = (e) => {\n",
       "        resolve(e.target.result);\n",
       "      };\n",
       "      reader.readAsArrayBuffer(file);\n",
       "    });\n",
       "    // Wait for the data to be ready.\n",
       "    let fileData = yield {\n",
       "      promise: fileDataPromise,\n",
       "      response: {\n",
       "        action: 'continue',\n",
       "      }\n",
       "    };\n",
       "\n",
       "    // Use a chunked sending to avoid message size limits. See b/62115660.\n",
       "    let position = 0;\n",
       "    do {\n",
       "      const length = Math.min(fileData.byteLength - position, MAX_PAYLOAD_SIZE);\n",
       "      const chunk = new Uint8Array(fileData, position, length);\n",
       "      position += length;\n",
       "\n",
       "      const base64 = btoa(String.fromCharCode.apply(null, chunk));\n",
       "      yield {\n",
       "        response: {\n",
       "          action: 'append',\n",
       "          file: file.name,\n",
       "          data: base64,\n",
       "        },\n",
       "      };\n",
       "\n",
       "      let percentDone = fileData.byteLength === 0 ?\n",
       "          100 :\n",
       "          Math.round((position / fileData.byteLength) * 100);\n",
       "      percent.textContent = `${percentDone}% done`;\n",
       "\n",
       "    } while (position < fileData.byteLength);\n",
       "  }\n",
       "\n",
       "  // All done.\n",
       "  yield {\n",
       "    response: {\n",
       "      action: 'complete',\n",
       "    }\n",
       "  };\n",
       "}\n",
       "\n",
       "scope.google = scope.google || {};\n",
       "scope.google.colab = scope.google.colab || {};\n",
       "scope.google.colab._files = {\n",
       "  _uploadFiles,\n",
       "  _uploadFilesContinue,\n",
       "};\n",
       "})(self);\n",
       "</script> "
      ],
      "text/plain": [
       "<IPython.core.display.HTML object>"
      ]
     },
     "metadata": {},
     "output_type": "display_data"
    },
    {
     "name": "stdout",
     "output_type": "stream",
     "text": [
      "Saving archive (2).zip to archive (2).zip\n"
     ]
    }
   ],
   "source": [
    "from google.colab import files\n",
    "uploaded = files.upload()"
   ]
  },
  {
   "cell_type": "markdown",
   "metadata": {
    "id": "lukX_LlRTRYz"
   },
   "source": [
    "Unzip file in colab"
   ]
  },
  {
   "cell_type": "code",
   "execution_count": 4,
   "metadata": {
    "colab": {
     "base_uri": "https://localhost:8080/"
    },
    "id": "_pfFROC6WJ4I",
    "outputId": "6d046d44-1cb2-43dc-c65e-ff00493907bb"
   },
   "outputs": [
    {
     "name": "stdout",
     "output_type": "stream",
     "text": [
      "Archive:  file.zip\n",
      "  inflating: pokemon/pokemon/1.png   \n",
      "  inflating: pokemon/pokemon/10.png  \n",
      "  inflating: pokemon/pokemon/100.png  \n",
      "  inflating: pokemon/pokemon/101.png  \n",
      "  inflating: pokemon/pokemon/102.png  \n",
      "  inflating: pokemon/pokemon/103.png  \n",
      "  inflating: pokemon/pokemon/104.png  \n",
      "  inflating: pokemon/pokemon/105.png  \n",
      "  inflating: pokemon/pokemon/106.png  \n",
      "  inflating: pokemon/pokemon/107.png  \n",
      "  inflating: pokemon/pokemon/108.png  \n",
      "  inflating: pokemon/pokemon/109.png  \n",
      "  inflating: pokemon/pokemon/11.png  \n",
      "  inflating: pokemon/pokemon/110.png  \n",
      "  inflating: pokemon/pokemon/111.png  \n",
      "  inflating: pokemon/pokemon/112.png  \n",
      "  inflating: pokemon/pokemon/113.png  \n",
      "  inflating: pokemon/pokemon/114.png  \n",
      "  inflating: pokemon/pokemon/115-mega.png  \n",
      "  inflating: pokemon/pokemon/115.png  \n",
      "  inflating: pokemon/pokemon/116.png  \n",
      "  inflating: pokemon/pokemon/117.png  \n",
      "  inflating: pokemon/pokemon/118.png  \n",
      "  inflating: pokemon/pokemon/119.png  \n",
      "  inflating: pokemon/pokemon/12.png  \n",
      "  inflating: pokemon/pokemon/120.png  \n",
      "  inflating: pokemon/pokemon/121.png  \n",
      "  inflating: pokemon/pokemon/122.png  \n",
      "  inflating: pokemon/pokemon/123.png  \n",
      "  inflating: pokemon/pokemon/124.png  \n",
      "  inflating: pokemon/pokemon/125.png  \n",
      "  inflating: pokemon/pokemon/126.png  \n",
      "  inflating: pokemon/pokemon/127-mega.png  \n",
      "  inflating: pokemon/pokemon/127.png  \n",
      "  inflating: pokemon/pokemon/128.png  \n",
      "  inflating: pokemon/pokemon/129.png  \n",
      "  inflating: pokemon/pokemon/13.png  \n",
      "  inflating: pokemon/pokemon/130-mega.png  \n",
      "  inflating: pokemon/pokemon/130.png  \n",
      "  inflating: pokemon/pokemon/131.png  \n",
      "  inflating: pokemon/pokemon/132.png  \n",
      "  inflating: pokemon/pokemon/133.png  \n",
      "  inflating: pokemon/pokemon/134.png  \n",
      "  inflating: pokemon/pokemon/135.png  \n",
      "  inflating: pokemon/pokemon/136.png  \n",
      "  inflating: pokemon/pokemon/137.png  \n",
      "  inflating: pokemon/pokemon/138.png  \n",
      "  inflating: pokemon/pokemon/139.png  \n",
      "  inflating: pokemon/pokemon/14.png  \n",
      "  inflating: pokemon/pokemon/140.png  \n",
      "  inflating: pokemon/pokemon/141.png  \n",
      "  inflating: pokemon/pokemon/142-mega.png  \n",
      "  inflating: pokemon/pokemon/142.png  \n",
      "  inflating: pokemon/pokemon/143.png  \n",
      "  inflating: pokemon/pokemon/144.png  \n",
      "  inflating: pokemon/pokemon/145.png  \n",
      "  inflating: pokemon/pokemon/146.png  \n",
      "  inflating: pokemon/pokemon/147.png  \n",
      "  inflating: pokemon/pokemon/148.png  \n",
      "  inflating: pokemon/pokemon/149.png  \n",
      "  inflating: pokemon/pokemon/15-mega.png  \n",
      "  inflating: pokemon/pokemon/15.png  \n",
      "  inflating: pokemon/pokemon/150-mega-x.png  \n",
      "  inflating: pokemon/pokemon/150-mega-y.png  \n",
      "  inflating: pokemon/pokemon/150.png  \n",
      "  inflating: pokemon/pokemon/151.png  \n",
      "  inflating: pokemon/pokemon/152.png  \n",
      "  inflating: pokemon/pokemon/153.png  \n",
      "  inflating: pokemon/pokemon/154.png  \n",
      "  inflating: pokemon/pokemon/155.png  \n",
      "  inflating: pokemon/pokemon/156.png  \n",
      "  inflating: pokemon/pokemon/157.png  \n",
      "  inflating: pokemon/pokemon/158.png  \n",
      "  inflating: pokemon/pokemon/159.png  \n",
      "  inflating: pokemon/pokemon/16.png  \n",
      "  inflating: pokemon/pokemon/160.png  \n",
      "  inflating: pokemon/pokemon/161.png  \n",
      "  inflating: pokemon/pokemon/162.png  \n",
      "  inflating: pokemon/pokemon/163.png  \n",
      "  inflating: pokemon/pokemon/164.png  \n",
      "  inflating: pokemon/pokemon/165.png  \n",
      "  inflating: pokemon/pokemon/166.png  \n",
      "  inflating: pokemon/pokemon/167.png  \n",
      "  inflating: pokemon/pokemon/168.png  \n",
      "  inflating: pokemon/pokemon/169.png  \n",
      "  inflating: pokemon/pokemon/17.png  \n",
      "  inflating: pokemon/pokemon/170.png  \n",
      "  inflating: pokemon/pokemon/171.png  \n",
      "  inflating: pokemon/pokemon/172.png  \n",
      "  inflating: pokemon/pokemon/173.png  \n",
      "  inflating: pokemon/pokemon/174.png  \n",
      "  inflating: pokemon/pokemon/175.png  \n",
      "  inflating: pokemon/pokemon/176.png  \n",
      "  inflating: pokemon/pokemon/177.png  \n",
      "  inflating: pokemon/pokemon/178.png  \n",
      "  inflating: pokemon/pokemon/179.png  \n",
      "  inflating: pokemon/pokemon/18-mega.png  \n",
      "  inflating: pokemon/pokemon/18.png  \n",
      "  inflating: pokemon/pokemon/180.png  \n",
      "  inflating: pokemon/pokemon/181-mega.png  \n",
      "  inflating: pokemon/pokemon/181.png  \n",
      "  inflating: pokemon/pokemon/182.png  \n",
      "  inflating: pokemon/pokemon/183.png  \n",
      "  inflating: pokemon/pokemon/184.png  \n",
      "  inflating: pokemon/pokemon/185.png  \n",
      "  inflating: pokemon/pokemon/186.png  \n",
      "  inflating: pokemon/pokemon/187.png  \n",
      "  inflating: pokemon/pokemon/188.png  \n",
      "  inflating: pokemon/pokemon/189.png  \n",
      "  inflating: pokemon/pokemon/19.png  \n",
      "  inflating: pokemon/pokemon/190.png  \n",
      "  inflating: pokemon/pokemon/191.png  \n",
      "  inflating: pokemon/pokemon/192.png  \n",
      "  inflating: pokemon/pokemon/193.png  \n",
      "  inflating: pokemon/pokemon/194.png  \n",
      "  inflating: pokemon/pokemon/195.png  \n",
      "  inflating: pokemon/pokemon/196.png  \n",
      "  inflating: pokemon/pokemon/197.png  \n",
      "  inflating: pokemon/pokemon/198.png  \n",
      "  inflating: pokemon/pokemon/199.png  \n",
      "  inflating: pokemon/pokemon/2.png   \n",
      "  inflating: pokemon/pokemon/20.png  \n",
      "  inflating: pokemon/pokemon/200.png  \n",
      "  inflating: pokemon/pokemon/201-f.png  \n",
      "  inflating: pokemon/pokemon/202.png  \n",
      "  inflating: pokemon/pokemon/203.png  \n",
      "  inflating: pokemon/pokemon/204.png  \n",
      "  inflating: pokemon/pokemon/205.png  \n",
      "  inflating: pokemon/pokemon/206.png  \n",
      "  inflating: pokemon/pokemon/207.png  \n",
      "  inflating: pokemon/pokemon/208-mega.png  \n",
      "  inflating: pokemon/pokemon/208.png  \n",
      "  inflating: pokemon/pokemon/209.png  \n",
      "  inflating: pokemon/pokemon/21.png  \n",
      "  inflating: pokemon/pokemon/210.png  \n",
      "  inflating: pokemon/pokemon/211.png  \n",
      "  inflating: pokemon/pokemon/212-mega.png  \n",
      "  inflating: pokemon/pokemon/212.png  \n",
      "  inflating: pokemon/pokemon/213.png  \n",
      "  inflating: pokemon/pokemon/214-mega.png  \n",
      "  inflating: pokemon/pokemon/214.png  \n",
      "  inflating: pokemon/pokemon/215.png  \n",
      "  inflating: pokemon/pokemon/216.png  \n",
      "  inflating: pokemon/pokemon/217.png  \n",
      "  inflating: pokemon/pokemon/218.png  \n",
      "  inflating: pokemon/pokemon/219.png  \n",
      "  inflating: pokemon/pokemon/22.png  \n",
      "  inflating: pokemon/pokemon/220.png  \n",
      "  inflating: pokemon/pokemon/221.png  \n",
      "  inflating: pokemon/pokemon/222.png  \n",
      "  inflating: pokemon/pokemon/223.png  \n",
      "  inflating: pokemon/pokemon/224.png  \n",
      "  inflating: pokemon/pokemon/225.png  \n",
      "  inflating: pokemon/pokemon/226.png  \n",
      "  inflating: pokemon/pokemon/227.png  \n",
      "  inflating: pokemon/pokemon/228.png  \n",
      "  inflating: pokemon/pokemon/229-mega.png  \n",
      "  inflating: pokemon/pokemon/229.png  \n",
      "  inflating: pokemon/pokemon/23.png  \n",
      "  inflating: pokemon/pokemon/230.png  \n",
      "  inflating: pokemon/pokemon/231.png  \n",
      "  inflating: pokemon/pokemon/232.png  \n",
      "  inflating: pokemon/pokemon/233.png  \n",
      "  inflating: pokemon/pokemon/234.png  \n",
      "  inflating: pokemon/pokemon/235.png  \n",
      "  inflating: pokemon/pokemon/236.png  \n",
      "  inflating: pokemon/pokemon/237.png  \n",
      "  inflating: pokemon/pokemon/238.png  \n",
      "  inflating: pokemon/pokemon/239.png  \n",
      "  inflating: pokemon/pokemon/24.png  \n",
      "  inflating: pokemon/pokemon/240.png  \n",
      "  inflating: pokemon/pokemon/241.png  \n",
      "  inflating: pokemon/pokemon/242.png  \n",
      "  inflating: pokemon/pokemon/243.png  \n",
      "  inflating: pokemon/pokemon/244.png  \n",
      "  inflating: pokemon/pokemon/245.png  \n",
      "  inflating: pokemon/pokemon/246.png  \n",
      "  inflating: pokemon/pokemon/247.png  \n",
      "  inflating: pokemon/pokemon/248-mega.png  \n",
      "  inflating: pokemon/pokemon/248.png  \n",
      "  inflating: pokemon/pokemon/249.png  \n",
      "  inflating: pokemon/pokemon/25-belle.png  \n",
      "  inflating: pokemon/pokemon/25-libre.png  \n",
      "  inflating: pokemon/pokemon/25-phd.png  \n",
      "  inflating: pokemon/pokemon/25-pop-star.png  \n",
      "  inflating: pokemon/pokemon/25-rock-star.png  \n",
      "  inflating: pokemon/pokemon/25.png  \n",
      "  inflating: pokemon/pokemon/250.png  \n",
      "  inflating: pokemon/pokemon/251.png  \n",
      "  inflating: pokemon/pokemon/252.png  \n",
      "  inflating: pokemon/pokemon/253.png  \n",
      "  inflating: pokemon/pokemon/254-mega.png  \n",
      "  inflating: pokemon/pokemon/254.png  \n",
      "  inflating: pokemon/pokemon/255.png  \n",
      "  inflating: pokemon/pokemon/256.png  \n",
      "  inflating: pokemon/pokemon/257-mega.png  \n",
      "  inflating: pokemon/pokemon/257.png  \n",
      "  inflating: pokemon/pokemon/258.png  \n",
      "  inflating: pokemon/pokemon/259.png  \n",
      "  inflating: pokemon/pokemon/26.png  \n",
      "  inflating: pokemon/pokemon/260-mega.png  \n",
      "  inflating: pokemon/pokemon/260.png  \n",
      "  inflating: pokemon/pokemon/261.png  \n",
      "  inflating: pokemon/pokemon/262.png  \n",
      "  inflating: pokemon/pokemon/263.png  \n",
      "  inflating: pokemon/pokemon/264.png  \n",
      "  inflating: pokemon/pokemon/265.png  \n",
      "  inflating: pokemon/pokemon/266.png  \n",
      "  inflating: pokemon/pokemon/267.png  \n",
      "  inflating: pokemon/pokemon/268.png  \n",
      "  inflating: pokemon/pokemon/269.png  \n",
      "  inflating: pokemon/pokemon/27.png  \n",
      "  inflating: pokemon/pokemon/270.png  \n",
      "  inflating: pokemon/pokemon/271.png  \n",
      "  inflating: pokemon/pokemon/272.png  \n",
      "  inflating: pokemon/pokemon/273.png  \n",
      "  inflating: pokemon/pokemon/274.png  \n",
      "  inflating: pokemon/pokemon/275.png  \n",
      "  inflating: pokemon/pokemon/276.png  \n",
      "  inflating: pokemon/pokemon/277.png  \n",
      "  inflating: pokemon/pokemon/278.png  \n",
      "  inflating: pokemon/pokemon/279.png  \n",
      "  inflating: pokemon/pokemon/28.png  \n",
      "  inflating: pokemon/pokemon/280.png  \n",
      "  inflating: pokemon/pokemon/281.png  \n",
      "  inflating: pokemon/pokemon/282-mega.png  \n",
      "  inflating: pokemon/pokemon/282.png  \n",
      "  inflating: pokemon/pokemon/283.png  \n",
      "  inflating: pokemon/pokemon/284.png  \n",
      "  inflating: pokemon/pokemon/285.png  \n",
      "  inflating: pokemon/pokemon/286.png  \n",
      "  inflating: pokemon/pokemon/287.png  \n",
      "  inflating: pokemon/pokemon/288.png  \n",
      "  inflating: pokemon/pokemon/289.png  \n",
      "  inflating: pokemon/pokemon/29.png  \n",
      "  inflating: pokemon/pokemon/290.png  \n",
      "  inflating: pokemon/pokemon/291.png  \n",
      "  inflating: pokemon/pokemon/292.png  \n",
      "  inflating: pokemon/pokemon/293.png  \n",
      "  inflating: pokemon/pokemon/294.png  \n",
      "  inflating: pokemon/pokemon/295.png  \n",
      "  inflating: pokemon/pokemon/296.png  \n",
      "  inflating: pokemon/pokemon/297.png  \n",
      "  inflating: pokemon/pokemon/298.png  \n",
      "  inflating: pokemon/pokemon/299.png  \n",
      "  inflating: pokemon/pokemon/3-mega.png  \n",
      "  inflating: pokemon/pokemon/3.png   \n",
      "  inflating: pokemon/pokemon/30.png  \n",
      "  inflating: pokemon/pokemon/300.png  \n",
      "  inflating: pokemon/pokemon/301.png  \n",
      "  inflating: pokemon/pokemon/302-mega.png  \n",
      "  inflating: pokemon/pokemon/302.png  \n",
      "  inflating: pokemon/pokemon/303-mega.png  \n",
      "  inflating: pokemon/pokemon/303.png  \n",
      "  inflating: pokemon/pokemon/304.png  \n",
      "  inflating: pokemon/pokemon/305.png  \n",
      "  inflating: pokemon/pokemon/306-mega.png  \n",
      "  inflating: pokemon/pokemon/306.png  \n",
      "  inflating: pokemon/pokemon/307.png  \n",
      "  inflating: pokemon/pokemon/308-mega.png  \n",
      "  inflating: pokemon/pokemon/308.png  \n",
      "  inflating: pokemon/pokemon/309.png  \n",
      "  inflating: pokemon/pokemon/31.png  \n",
      "  inflating: pokemon/pokemon/310-mega.png  \n",
      "  inflating: pokemon/pokemon/310.png  \n",
      "  inflating: pokemon/pokemon/311.png  \n",
      "  inflating: pokemon/pokemon/312.png  \n",
      "  inflating: pokemon/pokemon/313.png  \n",
      "  inflating: pokemon/pokemon/314.png  \n",
      "  inflating: pokemon/pokemon/315.png  \n",
      "  inflating: pokemon/pokemon/316.png  \n",
      "  inflating: pokemon/pokemon/317.png  \n",
      "  inflating: pokemon/pokemon/318.png  \n",
      "  inflating: pokemon/pokemon/319-mega.png  \n",
      "  inflating: pokemon/pokemon/319.png  \n",
      "  inflating: pokemon/pokemon/32.png  \n",
      "  inflating: pokemon/pokemon/320.png  \n",
      "  inflating: pokemon/pokemon/321.png  \n",
      "  inflating: pokemon/pokemon/322.png  \n",
      "  inflating: pokemon/pokemon/323-mega.png  \n",
      "  inflating: pokemon/pokemon/323.png  \n",
      "  inflating: pokemon/pokemon/324.png  \n",
      "  inflating: pokemon/pokemon/325.png  \n",
      "  inflating: pokemon/pokemon/326.png  \n",
      "  inflating: pokemon/pokemon/327.png  \n",
      "  inflating: pokemon/pokemon/328.png  \n",
      "  inflating: pokemon/pokemon/329.png  \n",
      "  inflating: pokemon/pokemon/33.png  \n",
      "  inflating: pokemon/pokemon/330.png  \n",
      "  inflating: pokemon/pokemon/331.png  \n",
      "  inflating: pokemon/pokemon/332.png  \n",
      "  inflating: pokemon/pokemon/333.png  \n",
      "  inflating: pokemon/pokemon/334-mega.png  \n",
      "  inflating: pokemon/pokemon/334.png  \n",
      "  inflating: pokemon/pokemon/335.png  \n",
      "  inflating: pokemon/pokemon/336.png  \n",
      "  inflating: pokemon/pokemon/337.png  \n",
      "  inflating: pokemon/pokemon/338.png  \n",
      "  inflating: pokemon/pokemon/339.png  \n",
      "  inflating: pokemon/pokemon/34.png  \n",
      "  inflating: pokemon/pokemon/340.png  \n",
      "  inflating: pokemon/pokemon/341.png  \n",
      "  inflating: pokemon/pokemon/342.png  \n",
      "  inflating: pokemon/pokemon/343.png  \n",
      "  inflating: pokemon/pokemon/344.png  \n",
      "  inflating: pokemon/pokemon/345.png  \n",
      "  inflating: pokemon/pokemon/346.png  \n",
      "  inflating: pokemon/pokemon/347.png  \n",
      "  inflating: pokemon/pokemon/348.png  \n",
      "  inflating: pokemon/pokemon/349.png  \n",
      "  inflating: pokemon/pokemon/35.png  \n",
      "  inflating: pokemon/pokemon/350.png  \n",
      "  inflating: pokemon/pokemon/351.png  \n",
      "  inflating: pokemon/pokemon/352.png  \n",
      "  inflating: pokemon/pokemon/353.png  \n",
      "  inflating: pokemon/pokemon/354-mega.png  \n",
      "  inflating: pokemon/pokemon/354.png  \n",
      "  inflating: pokemon/pokemon/355.png  \n",
      "  inflating: pokemon/pokemon/356.png  \n",
      "  inflating: pokemon/pokemon/357.png  \n",
      "  inflating: pokemon/pokemon/358.png  \n",
      "  inflating: pokemon/pokemon/359-mega.png  \n",
      "  inflating: pokemon/pokemon/359.png  \n",
      "  inflating: pokemon/pokemon/36.png  \n",
      "  inflating: pokemon/pokemon/360.png  \n",
      "  inflating: pokemon/pokemon/361.png  \n",
      "  inflating: pokemon/pokemon/362-mega.png  \n",
      "  inflating: pokemon/pokemon/362.png  \n",
      "  inflating: pokemon/pokemon/363.png  \n",
      "  inflating: pokemon/pokemon/364.png  \n",
      "  inflating: pokemon/pokemon/365.png  \n",
      "  inflating: pokemon/pokemon/366.png  \n",
      "  inflating: pokemon/pokemon/367.png  \n",
      "  inflating: pokemon/pokemon/368.png  \n",
      "  inflating: pokemon/pokemon/369.png  \n",
      "  inflating: pokemon/pokemon/37.png  \n",
      "  inflating: pokemon/pokemon/370.png  \n",
      "  inflating: pokemon/pokemon/371.png  \n",
      "  inflating: pokemon/pokemon/372.png  \n",
      "  inflating: pokemon/pokemon/373-mega.png  \n",
      "  inflating: pokemon/pokemon/373.png  \n",
      "  inflating: pokemon/pokemon/374.png  \n",
      "  inflating: pokemon/pokemon/375.png  \n",
      "  inflating: pokemon/pokemon/376-mega.png  \n",
      "  inflating: pokemon/pokemon/376.png  \n",
      "  inflating: pokemon/pokemon/377.png  \n",
      "  inflating: pokemon/pokemon/378.png  \n",
      "  inflating: pokemon/pokemon/379.png  \n",
      "  inflating: pokemon/pokemon/38.png  \n",
      "  inflating: pokemon/pokemon/380-mega.png  \n",
      "  inflating: pokemon/pokemon/380.png  \n",
      "  inflating: pokemon/pokemon/381-mega.png  \n",
      "  inflating: pokemon/pokemon/381.png  \n",
      "  inflating: pokemon/pokemon/382-primal.png  \n",
      "  inflating: pokemon/pokemon/382.png  \n",
      "  inflating: pokemon/pokemon/383-primal.png  \n",
      "  inflating: pokemon/pokemon/383.png  \n",
      "  inflating: pokemon/pokemon/384-mega.png  \n",
      "  inflating: pokemon/pokemon/384.png  \n",
      "  inflating: pokemon/pokemon/385.png  \n",
      "  inflating: pokemon/pokemon/386-attack.png  \n",
      "  inflating: pokemon/pokemon/386-defense.png  \n",
      "  inflating: pokemon/pokemon/386-normal.png  \n",
      "  inflating: pokemon/pokemon/386-speed.png  \n",
      "  inflating: pokemon/pokemon/387.png  \n",
      "  inflating: pokemon/pokemon/388.png  \n",
      "  inflating: pokemon/pokemon/389.png  \n",
      "  inflating: pokemon/pokemon/39.png  \n",
      "  inflating: pokemon/pokemon/390.png  \n",
      "  inflating: pokemon/pokemon/391.png  \n",
      "  inflating: pokemon/pokemon/392.png  \n",
      "  inflating: pokemon/pokemon/393.png  \n",
      "  inflating: pokemon/pokemon/394.png  \n",
      "  inflating: pokemon/pokemon/395.png  \n",
      "  inflating: pokemon/pokemon/396.png  \n",
      "  inflating: pokemon/pokemon/397.png  \n",
      "  inflating: pokemon/pokemon/398.png  \n",
      "  inflating: pokemon/pokemon/399.png  \n",
      "  inflating: pokemon/pokemon/4.png   \n",
      "  inflating: pokemon/pokemon/40.png  \n",
      "  inflating: pokemon/pokemon/400.png  \n",
      "  inflating: pokemon/pokemon/401.png  \n",
      "  inflating: pokemon/pokemon/402.png  \n",
      "  inflating: pokemon/pokemon/403.png  \n",
      "  inflating: pokemon/pokemon/404.png  \n",
      "  inflating: pokemon/pokemon/405.png  \n",
      "  inflating: pokemon/pokemon/406.png  \n",
      "  inflating: pokemon/pokemon/407.png  \n",
      "  inflating: pokemon/pokemon/408.png  \n",
      "  inflating: pokemon/pokemon/409.png  \n",
      "  inflating: pokemon/pokemon/41.png  \n",
      "  inflating: pokemon/pokemon/410.png  \n",
      "  inflating: pokemon/pokemon/411.png  \n",
      "  inflating: pokemon/pokemon/412-plant.png  \n",
      "  inflating: pokemon/pokemon/412-sandy.png  \n",
      "  inflating: pokemon/pokemon/412-trash.png  \n",
      "  inflating: pokemon/pokemon/413-plant.png  \n",
      "  inflating: pokemon/pokemon/413-sandy.png  \n",
      "  inflating: pokemon/pokemon/413-trash.png  \n",
      "  inflating: pokemon/pokemon/414.png  \n",
      "  inflating: pokemon/pokemon/415.png  \n",
      "  inflating: pokemon/pokemon/416.png  \n",
      "  inflating: pokemon/pokemon/417.png  \n",
      "  inflating: pokemon/pokemon/418.png  \n",
      "  inflating: pokemon/pokemon/419.png  \n",
      "  inflating: pokemon/pokemon/42.png  \n",
      "  inflating: pokemon/pokemon/420.png  \n",
      "  inflating: pokemon/pokemon/421-overcast.png  \n",
      "  inflating: pokemon/pokemon/421-sunshine.png  \n",
      "  inflating: pokemon/pokemon/422-east.png  \n",
      "  inflating: pokemon/pokemon/422-west.png  \n",
      "  inflating: pokemon/pokemon/423-east.png  \n",
      "  inflating: pokemon/pokemon/423-west.png  \n",
      "  inflating: pokemon/pokemon/424.png  \n",
      "  inflating: pokemon/pokemon/425.png  \n",
      "  inflating: pokemon/pokemon/426.png  \n",
      "  inflating: pokemon/pokemon/427.png  \n",
      "  inflating: pokemon/pokemon/428-mega.png  \n",
      "  inflating: pokemon/pokemon/428.png  \n",
      "  inflating: pokemon/pokemon/429.png  \n",
      "  inflating: pokemon/pokemon/43.png  \n",
      "  inflating: pokemon/pokemon/430.png  \n",
      "  inflating: pokemon/pokemon/431.png  \n",
      "  inflating: pokemon/pokemon/432.png  \n",
      "  inflating: pokemon/pokemon/433.png  \n",
      "  inflating: pokemon/pokemon/434.png  \n",
      "  inflating: pokemon/pokemon/435.png  \n",
      "  inflating: pokemon/pokemon/436.png  \n",
      "  inflating: pokemon/pokemon/437.png  \n",
      "  inflating: pokemon/pokemon/438.png  \n",
      "  inflating: pokemon/pokemon/439.png  \n",
      "  inflating: pokemon/pokemon/44.png  \n",
      "  inflating: pokemon/pokemon/440.png  \n",
      "  inflating: pokemon/pokemon/441.png  \n",
      "  inflating: pokemon/pokemon/442.png  \n",
      "  inflating: pokemon/pokemon/443.png  \n",
      "  inflating: pokemon/pokemon/444.png  \n",
      "  inflating: pokemon/pokemon/445-mega.png  \n",
      "  inflating: pokemon/pokemon/445.png  \n",
      "  inflating: pokemon/pokemon/446.png  \n",
      "  inflating: pokemon/pokemon/447.png  \n",
      "  inflating: pokemon/pokemon/448-mega.png  \n",
      "  inflating: pokemon/pokemon/448.png  \n",
      "  inflating: pokemon/pokemon/449.png  \n",
      "  inflating: pokemon/pokemon/45.png  \n",
      "  inflating: pokemon/pokemon/450.png  \n",
      "  inflating: pokemon/pokemon/451.png  \n",
      "  inflating: pokemon/pokemon/452.png  \n",
      "  inflating: pokemon/pokemon/453.png  \n",
      "  inflating: pokemon/pokemon/454.png  \n",
      "  inflating: pokemon/pokemon/455.png  \n",
      "  inflating: pokemon/pokemon/456.png  \n",
      "  inflating: pokemon/pokemon/457.png  \n",
      "  inflating: pokemon/pokemon/458.png  \n",
      "  inflating: pokemon/pokemon/459.png  \n",
      "  inflating: pokemon/pokemon/46.png  \n",
      "  inflating: pokemon/pokemon/460-mega.png  \n",
      "  inflating: pokemon/pokemon/460.png  \n",
      "  inflating: pokemon/pokemon/461.png  \n",
      "  inflating: pokemon/pokemon/462.png  \n",
      "  inflating: pokemon/pokemon/463.png  \n",
      "  inflating: pokemon/pokemon/464.png  \n",
      "  inflating: pokemon/pokemon/465.png  \n",
      "  inflating: pokemon/pokemon/466.png  \n",
      "  inflating: pokemon/pokemon/467.png  \n",
      "  inflating: pokemon/pokemon/468.png  \n",
      "  inflating: pokemon/pokemon/469.png  \n",
      "  inflating: pokemon/pokemon/47.png  \n",
      "  inflating: pokemon/pokemon/470.png  \n",
      "  inflating: pokemon/pokemon/471.png  \n",
      "  inflating: pokemon/pokemon/472.png  \n",
      "  inflating: pokemon/pokemon/473.png  \n",
      "  inflating: pokemon/pokemon/474.png  \n",
      "  inflating: pokemon/pokemon/475-mega.png  \n",
      "  inflating: pokemon/pokemon/475.png  \n",
      "  inflating: pokemon/pokemon/476.png  \n",
      "  inflating: pokemon/pokemon/477.png  \n",
      "  inflating: pokemon/pokemon/478.png  \n",
      "  inflating: pokemon/pokemon/479-fan.png  \n",
      "  inflating: pokemon/pokemon/479-frost.png  \n",
      "  inflating: pokemon/pokemon/479-heat.png  \n",
      "  inflating: pokemon/pokemon/479-mow.png  \n",
      "  inflating: pokemon/pokemon/479-wash.png  \n",
      "  inflating: pokemon/pokemon/479.png  \n",
      "  inflating: pokemon/pokemon/48.png  \n",
      "  inflating: pokemon/pokemon/480.png  \n",
      "  inflating: pokemon/pokemon/481.png  \n",
      "  inflating: pokemon/pokemon/482.png  \n",
      "  inflating: pokemon/pokemon/483.png  \n",
      "  inflating: pokemon/pokemon/484.png  \n",
      "  inflating: pokemon/pokemon/485.png  \n",
      "  inflating: pokemon/pokemon/486.png  \n",
      "  inflating: pokemon/pokemon/487-altered.png  \n",
      "  inflating: pokemon/pokemon/487-origin.png  \n",
      "  inflating: pokemon/pokemon/488.png  \n",
      "  inflating: pokemon/pokemon/489.png  \n",
      "  inflating: pokemon/pokemon/49.png  \n",
      "  inflating: pokemon/pokemon/490.png  \n",
      "  inflating: pokemon/pokemon/491.png  \n",
      "  inflating: pokemon/pokemon/492-land.png  \n",
      "  inflating: pokemon/pokemon/492-sky.png  \n",
      "  inflating: pokemon/pokemon/493-normal.png  \n",
      "  inflating: pokemon/pokemon/494.png  \n",
      "  inflating: pokemon/pokemon/495.png  \n",
      "  inflating: pokemon/pokemon/496.png  \n",
      "  inflating: pokemon/pokemon/497.png  \n",
      "  inflating: pokemon/pokemon/498.png  \n",
      "  inflating: pokemon/pokemon/499.png  \n",
      "  inflating: pokemon/pokemon/5.png   \n",
      "  inflating: pokemon/pokemon/50.png  \n",
      "  inflating: pokemon/pokemon/500.png  \n",
      "  inflating: pokemon/pokemon/501.png  \n",
      "  inflating: pokemon/pokemon/502.png  \n",
      "  inflating: pokemon/pokemon/503.png  \n",
      "  inflating: pokemon/pokemon/504.png  \n",
      "  inflating: pokemon/pokemon/505.png  \n",
      "  inflating: pokemon/pokemon/506.png  \n",
      "  inflating: pokemon/pokemon/507.png  \n",
      "  inflating: pokemon/pokemon/508.png  \n",
      "  inflating: pokemon/pokemon/509.png  \n",
      "  inflating: pokemon/pokemon/51.png  \n",
      "  inflating: pokemon/pokemon/510.png  \n",
      "  inflating: pokemon/pokemon/511.png  \n",
      "  inflating: pokemon/pokemon/512.png  \n",
      "  inflating: pokemon/pokemon/513.png  \n",
      "  inflating: pokemon/pokemon/514.png  \n",
      "  inflating: pokemon/pokemon/515.png  \n",
      "  inflating: pokemon/pokemon/516.png  \n",
      "  inflating: pokemon/pokemon/517.png  \n",
      "  inflating: pokemon/pokemon/518.png  \n",
      "  inflating: pokemon/pokemon/519.png  \n",
      "  inflating: pokemon/pokemon/52.png  \n",
      "  inflating: pokemon/pokemon/520.png  \n",
      "  inflating: pokemon/pokemon/521.png  \n",
      "  inflating: pokemon/pokemon/521f.png  \n",
      "  inflating: pokemon/pokemon/522.png  \n",
      "  inflating: pokemon/pokemon/523.png  \n",
      "  inflating: pokemon/pokemon/524.png  \n",
      "  inflating: pokemon/pokemon/525.png  \n",
      "  inflating: pokemon/pokemon/526.png  \n",
      "  inflating: pokemon/pokemon/527.png  \n",
      "  inflating: pokemon/pokemon/528.png  \n",
      "  inflating: pokemon/pokemon/529.png  \n",
      "  inflating: pokemon/pokemon/53.png  \n",
      "  inflating: pokemon/pokemon/530.png  \n",
      "  inflating: pokemon/pokemon/531-mega.png  \n",
      "  inflating: pokemon/pokemon/531.png  \n",
      "  inflating: pokemon/pokemon/532.png  \n",
      "  inflating: pokemon/pokemon/533.png  \n",
      "  inflating: pokemon/pokemon/534.png  \n",
      "  inflating: pokemon/pokemon/535.png  \n",
      "  inflating: pokemon/pokemon/536.png  \n",
      "  inflating: pokemon/pokemon/537.png  \n",
      "  inflating: pokemon/pokemon/538.png  \n",
      "  inflating: pokemon/pokemon/539.png  \n",
      "  inflating: pokemon/pokemon/54.png  \n",
      "  inflating: pokemon/pokemon/540.png  \n",
      "  inflating: pokemon/pokemon/541.png  \n",
      "  inflating: pokemon/pokemon/542.png  \n",
      "  inflating: pokemon/pokemon/543.png  \n",
      "  inflating: pokemon/pokemon/544.png  \n",
      "  inflating: pokemon/pokemon/545.png  \n",
      "  inflating: pokemon/pokemon/546.png  \n",
      "  inflating: pokemon/pokemon/547.png  \n",
      "  inflating: pokemon/pokemon/548.png  \n",
      "  inflating: pokemon/pokemon/549.png  \n",
      "  inflating: pokemon/pokemon/55.png  \n",
      "  inflating: pokemon/pokemon/550-blue-striped.png  \n",
      "  inflating: pokemon/pokemon/550-red-striped.png  \n",
      "  inflating: pokemon/pokemon/551.png  \n",
      "  inflating: pokemon/pokemon/552.png  \n",
      "  inflating: pokemon/pokemon/553.png  \n",
      "  inflating: pokemon/pokemon/554.png  \n",
      "  inflating: pokemon/pokemon/555-standard.png  \n",
      "  inflating: pokemon/pokemon/556.png  \n",
      "  inflating: pokemon/pokemon/557.png  \n",
      "  inflating: pokemon/pokemon/558.png  \n",
      "  inflating: pokemon/pokemon/559.png  \n",
      "  inflating: pokemon/pokemon/56.png  \n",
      "  inflating: pokemon/pokemon/560.png  \n",
      "  inflating: pokemon/pokemon/561.png  \n",
      "  inflating: pokemon/pokemon/562.png  \n",
      "  inflating: pokemon/pokemon/563.png  \n",
      "  inflating: pokemon/pokemon/564.png  \n",
      "  inflating: pokemon/pokemon/565.png  \n",
      "  inflating: pokemon/pokemon/566.png  \n",
      "  inflating: pokemon/pokemon/567.png  \n",
      "  inflating: pokemon/pokemon/568.png  \n",
      "  inflating: pokemon/pokemon/569.png  \n",
      "  inflating: pokemon/pokemon/57.png  \n",
      "  inflating: pokemon/pokemon/570.png  \n",
      "  inflating: pokemon/pokemon/571.png  \n",
      "  inflating: pokemon/pokemon/572.png  \n",
      "  inflating: pokemon/pokemon/573.png  \n",
      "  inflating: pokemon/pokemon/574.png  \n",
      "  inflating: pokemon/pokemon/575.png  \n",
      "  inflating: pokemon/pokemon/576.png  \n",
      "  inflating: pokemon/pokemon/577.png  \n",
      "  inflating: pokemon/pokemon/578.png  \n",
      "  inflating: pokemon/pokemon/579.png  \n",
      "  inflating: pokemon/pokemon/58.png  \n",
      "  inflating: pokemon/pokemon/580.png  \n",
      "  inflating: pokemon/pokemon/581.png  \n",
      "  inflating: pokemon/pokemon/582.png  \n",
      "  inflating: pokemon/pokemon/583.png  \n",
      "  inflating: pokemon/pokemon/584.png  \n",
      "  inflating: pokemon/pokemon/585-autumn.png  \n",
      "  inflating: pokemon/pokemon/585-spring.png  \n",
      "  inflating: pokemon/pokemon/585-summer.png  \n",
      "  inflating: pokemon/pokemon/585-winter.png  \n",
      "  inflating: pokemon/pokemon/586-autumn.png  \n",
      "  inflating: pokemon/pokemon/586-spring.png  \n",
      "  inflating: pokemon/pokemon/586-summer.png  \n",
      "  inflating: pokemon/pokemon/586-winter.png  \n",
      "  inflating: pokemon/pokemon/587.png  \n",
      "  inflating: pokemon/pokemon/588.png  \n",
      "  inflating: pokemon/pokemon/589.png  \n",
      "  inflating: pokemon/pokemon/59.png  \n",
      "  inflating: pokemon/pokemon/590.png  \n",
      "  inflating: pokemon/pokemon/591.png  \n",
      "  inflating: pokemon/pokemon/592.png  \n",
      "  inflating: pokemon/pokemon/592f.png  \n",
      "  inflating: pokemon/pokemon/593.png  \n",
      "  inflating: pokemon/pokemon/593f.png  \n",
      "  inflating: pokemon/pokemon/594.png  \n",
      "  inflating: pokemon/pokemon/595.png  \n",
      "  inflating: pokemon/pokemon/596.png  \n",
      "  inflating: pokemon/pokemon/597.png  \n",
      "  inflating: pokemon/pokemon/598.png  \n",
      "  inflating: pokemon/pokemon/599.png  \n",
      "  inflating: pokemon/pokemon/6-mega-x.png  \n",
      "  inflating: pokemon/pokemon/6-mega-y.png  \n",
      "  inflating: pokemon/pokemon/6.png   \n",
      "  inflating: pokemon/pokemon/60.png  \n",
      "  inflating: pokemon/pokemon/600.png  \n",
      "  inflating: pokemon/pokemon/601.png  \n",
      "  inflating: pokemon/pokemon/602.png  \n",
      "  inflating: pokemon/pokemon/603.png  \n",
      "  inflating: pokemon/pokemon/604.png  \n",
      "  inflating: pokemon/pokemon/605.png  \n",
      "  inflating: pokemon/pokemon/606.png  \n",
      "  inflating: pokemon/pokemon/607.png  \n",
      "  inflating: pokemon/pokemon/608.png  \n",
      "  inflating: pokemon/pokemon/609.png  \n",
      "  inflating: pokemon/pokemon/61.png  \n",
      "  inflating: pokemon/pokemon/610.png  \n",
      "  inflating: pokemon/pokemon/611.png  \n",
      "  inflating: pokemon/pokemon/612.png  \n",
      "  inflating: pokemon/pokemon/613.png  \n",
      "  inflating: pokemon/pokemon/614.png  \n",
      "  inflating: pokemon/pokemon/615.png  \n",
      "  inflating: pokemon/pokemon/616.png  \n",
      "  inflating: pokemon/pokemon/617.png  \n",
      "  inflating: pokemon/pokemon/618.png  \n",
      "  inflating: pokemon/pokemon/619.png  \n",
      "  inflating: pokemon/pokemon/62.png  \n",
      "  inflating: pokemon/pokemon/620.png  \n",
      "  inflating: pokemon/pokemon/621.png  \n",
      "  inflating: pokemon/pokemon/622.png  \n",
      "  inflating: pokemon/pokemon/623.png  \n",
      "  inflating: pokemon/pokemon/624.png  \n",
      "  inflating: pokemon/pokemon/625.png  \n",
      "  inflating: pokemon/pokemon/626.png  \n",
      "  inflating: pokemon/pokemon/627.png  \n",
      "  inflating: pokemon/pokemon/628.png  \n",
      "  inflating: pokemon/pokemon/629.png  \n",
      "  inflating: pokemon/pokemon/63.png  \n",
      "  inflating: pokemon/pokemon/630.png  \n",
      "  inflating: pokemon/pokemon/631.png  \n",
      "  inflating: pokemon/pokemon/632.png  \n",
      "  inflating: pokemon/pokemon/633.png  \n",
      "  inflating: pokemon/pokemon/634.png  \n",
      "  inflating: pokemon/pokemon/635.png  \n",
      "  inflating: pokemon/pokemon/636.png  \n",
      "  inflating: pokemon/pokemon/637.png  \n",
      "  inflating: pokemon/pokemon/638.png  \n",
      "  inflating: pokemon/pokemon/639.png  \n",
      "  inflating: pokemon/pokemon/64.png  \n",
      "  inflating: pokemon/pokemon/640.png  \n",
      "  inflating: pokemon/pokemon/641-incarnate.png  \n",
      "  inflating: pokemon/pokemon/641-therian.png  \n",
      "  inflating: pokemon/pokemon/642-incarnate.png  \n",
      "  inflating: pokemon/pokemon/642-therian.png  \n",
      "  inflating: pokemon/pokemon/643.png  \n",
      "  inflating: pokemon/pokemon/644.png  \n",
      "  inflating: pokemon/pokemon/645-incarnate.png  \n",
      "  inflating: pokemon/pokemon/645-therian.png  \n",
      "  inflating: pokemon/pokemon/646-black.png  \n",
      "  inflating: pokemon/pokemon/646-white.png  \n",
      "  inflating: pokemon/pokemon/646.png  \n",
      "  inflating: pokemon/pokemon/647-ordinary.png  \n",
      "  inflating: pokemon/pokemon/647-resolute.png  \n",
      "  inflating: pokemon/pokemon/648-pirouette.png  \n",
      "  inflating: pokemon/pokemon/648.png  \n",
      "  inflating: pokemon/pokemon/649.png  \n",
      "  inflating: pokemon/pokemon/65-mega.png  \n",
      "  inflating: pokemon/pokemon/65.png  \n",
      "  inflating: pokemon/pokemon/650.png  \n",
      "  inflating: pokemon/pokemon/651.png  \n",
      "  inflating: pokemon/pokemon/652.png  \n",
      "  inflating: pokemon/pokemon/653.png  \n",
      "  inflating: pokemon/pokemon/654.png  \n",
      "  inflating: pokemon/pokemon/655.png  \n",
      "  inflating: pokemon/pokemon/656.png  \n",
      "  inflating: pokemon/pokemon/657.png  \n",
      "  inflating: pokemon/pokemon/658.png  \n",
      "  inflating: pokemon/pokemon/659.png  \n",
      "  inflating: pokemon/pokemon/66.png  \n",
      "  inflating: pokemon/pokemon/660.png  \n",
      "  inflating: pokemon/pokemon/661.png  \n",
      "  inflating: pokemon/pokemon/662.png  \n",
      "  inflating: pokemon/pokemon/663.png  \n",
      "  inflating: pokemon/pokemon/664.png  \n",
      "  inflating: pokemon/pokemon/665.png  \n",
      "  inflating: pokemon/pokemon/666-elegant.png  \n",
      "  inflating: pokemon/pokemon/666.png  \n",
      "  inflating: pokemon/pokemon/667.png  \n",
      "  inflating: pokemon/pokemon/668.png  \n",
      "  inflating: pokemon/pokemon/668f.png  \n",
      "  inflating: pokemon/pokemon/669.png  \n",
      "  inflating: pokemon/pokemon/67.png  \n",
      "  inflating: pokemon/pokemon/670.png  \n",
      "  inflating: pokemon/pokemon/671.png  \n",
      "  inflating: pokemon/pokemon/672.png  \n",
      "  inflating: pokemon/pokemon/673.png  \n",
      "  inflating: pokemon/pokemon/674.png  \n",
      "  inflating: pokemon/pokemon/675.png  \n",
      "  inflating: pokemon/pokemon/676-diamond.png  \n",
      "  inflating: pokemon/pokemon/676-heart.png  \n",
      "  inflating: pokemon/pokemon/676-star.png  \n",
      "  inflating: pokemon/pokemon/676.png  \n",
      "  inflating: pokemon/pokemon/677.png  \n",
      "  inflating: pokemon/pokemon/678.png  \n",
      "  inflating: pokemon/pokemon/678f.png  \n",
      "  inflating: pokemon/pokemon/679.png  \n",
      "  inflating: pokemon/pokemon/68.png  \n",
      "  inflating: pokemon/pokemon/680.png  \n",
      "  inflating: pokemon/pokemon/681-blade.png  \n",
      "  inflating: pokemon/pokemon/681-shield.png  \n",
      "  inflating: pokemon/pokemon/681.png  \n",
      "  inflating: pokemon/pokemon/682.png  \n",
      "  inflating: pokemon/pokemon/683.png  \n",
      "  inflating: pokemon/pokemon/684.png  \n",
      "  inflating: pokemon/pokemon/685.png  \n",
      "  inflating: pokemon/pokemon/686.png  \n",
      "  inflating: pokemon/pokemon/687.png  \n",
      "  inflating: pokemon/pokemon/688.png  \n",
      "  inflating: pokemon/pokemon/689.png  \n",
      "  inflating: pokemon/pokemon/69.png  \n",
      "  inflating: pokemon/pokemon/690.png  \n",
      "  inflating: pokemon/pokemon/691.png  \n",
      "  inflating: pokemon/pokemon/692.png  \n",
      "  inflating: pokemon/pokemon/693.png  \n",
      "  inflating: pokemon/pokemon/694.png  \n",
      "  inflating: pokemon/pokemon/695.png  \n",
      "  inflating: pokemon/pokemon/696.png  \n",
      "  inflating: pokemon/pokemon/697.png  \n",
      "  inflating: pokemon/pokemon/698.png  \n",
      "  inflating: pokemon/pokemon/699.png  \n",
      "  inflating: pokemon/pokemon/7.png   \n",
      "  inflating: pokemon/pokemon/70.png  \n",
      "  inflating: pokemon/pokemon/700.png  \n",
      "  inflating: pokemon/pokemon/701.png  \n",
      "  inflating: pokemon/pokemon/702.png  \n",
      "  inflating: pokemon/pokemon/703.png  \n",
      "  inflating: pokemon/pokemon/704.png  \n",
      "  inflating: pokemon/pokemon/705.png  \n",
      "  inflating: pokemon/pokemon/706.png  \n",
      "  inflating: pokemon/pokemon/707.png  \n",
      "  inflating: pokemon/pokemon/708.png  \n",
      "  inflating: pokemon/pokemon/709.png  \n",
      "  inflating: pokemon/pokemon/71.png  \n",
      "  inflating: pokemon/pokemon/710.png  \n",
      "  inflating: pokemon/pokemon/711.png  \n",
      "  inflating: pokemon/pokemon/712.png  \n",
      "  inflating: pokemon/pokemon/713.png  \n",
      "  inflating: pokemon/pokemon/714.png  \n",
      "  inflating: pokemon/pokemon/715.png  \n",
      "  inflating: pokemon/pokemon/716.png  \n",
      "  inflating: pokemon/pokemon/717.png  \n",
      "  inflating: pokemon/pokemon/718.png  \n",
      "  inflating: pokemon/pokemon/719-mega.png  \n",
      "  inflating: pokemon/pokemon/719.png  \n",
      "  inflating: pokemon/pokemon/72.png  \n",
      "  inflating: pokemon/pokemon/720-unbound.png  \n",
      "  inflating: pokemon/pokemon/720.png  \n",
      "  inflating: pokemon/pokemon/721.png  \n",
      "  inflating: pokemon/pokemon/73.png  \n",
      "  inflating: pokemon/pokemon/74.png  \n",
      "  inflating: pokemon/pokemon/75.png  \n",
      "  inflating: pokemon/pokemon/76.png  \n",
      "  inflating: pokemon/pokemon/77.png  \n",
      "  inflating: pokemon/pokemon/78.png  \n",
      "  inflating: pokemon/pokemon/79.png  \n",
      "  inflating: pokemon/pokemon/8.png   \n",
      "  inflating: pokemon/pokemon/80-mega.png  \n",
      "  inflating: pokemon/pokemon/80.png  \n",
      "  inflating: pokemon/pokemon/81.png  \n",
      "  inflating: pokemon/pokemon/82.png  \n",
      "  inflating: pokemon/pokemon/83.png  \n",
      "  inflating: pokemon/pokemon/84.png  \n",
      "  inflating: pokemon/pokemon/85.png  \n",
      "  inflating: pokemon/pokemon/86.png  \n",
      "  inflating: pokemon/pokemon/87.png  \n",
      "  inflating: pokemon/pokemon/88.png  \n",
      "  inflating: pokemon/pokemon/89.png  \n",
      "  inflating: pokemon/pokemon/9-mega.png  \n",
      "  inflating: pokemon/pokemon/9.png   \n",
      "  inflating: pokemon/pokemon/90.png  \n",
      "  inflating: pokemon/pokemon/91.png  \n",
      "  inflating: pokemon/pokemon/92.png  \n",
      "  inflating: pokemon/pokemon/93.png  \n",
      "  inflating: pokemon/pokemon/94-mega.png  \n",
      "  inflating: pokemon/pokemon/94.png  \n",
      "  inflating: pokemon/pokemon/95.png  \n",
      "  inflating: pokemon/pokemon/96.png  \n",
      "  inflating: pokemon/pokemon/97.png  \n",
      "  inflating: pokemon/pokemon/98.png  \n",
      "  inflating: pokemon/pokemon/99.png  \n",
      "  inflating: pokemon_jpg/pokemon_jpg/1.jpg  \n",
      "  inflating: pokemon_jpg/pokemon_jpg/10.jpg  \n",
      "  inflating: pokemon_jpg/pokemon_jpg/100.jpg  \n",
      "  inflating: pokemon_jpg/pokemon_jpg/101.jpg  \n",
      "  inflating: pokemon_jpg/pokemon_jpg/102.jpg  \n",
      "  inflating: pokemon_jpg/pokemon_jpg/103.jpg  \n",
      "  inflating: pokemon_jpg/pokemon_jpg/104.jpg  \n",
      "  inflating: pokemon_jpg/pokemon_jpg/105.jpg  \n",
      "  inflating: pokemon_jpg/pokemon_jpg/106.jpg  \n",
      "  inflating: pokemon_jpg/pokemon_jpg/107.jpg  \n",
      "  inflating: pokemon_jpg/pokemon_jpg/108.jpg  \n",
      "  inflating: pokemon_jpg/pokemon_jpg/109.jpg  \n",
      "  inflating: pokemon_jpg/pokemon_jpg/11.jpg  \n",
      "  inflating: pokemon_jpg/pokemon_jpg/110.jpg  \n",
      "  inflating: pokemon_jpg/pokemon_jpg/111.jpg  \n",
      "  inflating: pokemon_jpg/pokemon_jpg/112.jpg  \n",
      "  inflating: pokemon_jpg/pokemon_jpg/113.jpg  \n",
      "  inflating: pokemon_jpg/pokemon_jpg/114.jpg  \n",
      "  inflating: pokemon_jpg/pokemon_jpg/115-mega.jpg  \n",
      "  inflating: pokemon_jpg/pokemon_jpg/115.jpg  \n",
      "  inflating: pokemon_jpg/pokemon_jpg/116.jpg  \n",
      "  inflating: pokemon_jpg/pokemon_jpg/117.jpg  \n",
      "  inflating: pokemon_jpg/pokemon_jpg/118.jpg  \n",
      "  inflating: pokemon_jpg/pokemon_jpg/119.jpg  \n",
      "  inflating: pokemon_jpg/pokemon_jpg/12.jpg  \n",
      "  inflating: pokemon_jpg/pokemon_jpg/120.jpg  \n",
      "  inflating: pokemon_jpg/pokemon_jpg/121.jpg  \n",
      "  inflating: pokemon_jpg/pokemon_jpg/122.jpg  \n",
      "  inflating: pokemon_jpg/pokemon_jpg/123.jpg  \n",
      "  inflating: pokemon_jpg/pokemon_jpg/124.jpg  \n",
      "  inflating: pokemon_jpg/pokemon_jpg/125.jpg  \n",
      "  inflating: pokemon_jpg/pokemon_jpg/126.jpg  \n",
      "  inflating: pokemon_jpg/pokemon_jpg/127-mega.jpg  \n",
      "  inflating: pokemon_jpg/pokemon_jpg/127.jpg  \n",
      "  inflating: pokemon_jpg/pokemon_jpg/128.jpg  \n",
      "  inflating: pokemon_jpg/pokemon_jpg/129.jpg  \n",
      "  inflating: pokemon_jpg/pokemon_jpg/13.jpg  \n",
      "  inflating: pokemon_jpg/pokemon_jpg/130-mega.jpg  \n",
      "  inflating: pokemon_jpg/pokemon_jpg/130.jpg  \n",
      "  inflating: pokemon_jpg/pokemon_jpg/131.jpg  \n",
      "  inflating: pokemon_jpg/pokemon_jpg/132.jpg  \n",
      "  inflating: pokemon_jpg/pokemon_jpg/133.jpg  \n",
      "  inflating: pokemon_jpg/pokemon_jpg/134.jpg  \n",
      "  inflating: pokemon_jpg/pokemon_jpg/135.jpg  \n",
      "  inflating: pokemon_jpg/pokemon_jpg/136.jpg  \n",
      "  inflating: pokemon_jpg/pokemon_jpg/137.jpg  \n",
      "  inflating: pokemon_jpg/pokemon_jpg/138.jpg  \n",
      "  inflating: pokemon_jpg/pokemon_jpg/139.jpg  \n",
      "  inflating: pokemon_jpg/pokemon_jpg/14.jpg  \n",
      "  inflating: pokemon_jpg/pokemon_jpg/140.jpg  \n",
      "  inflating: pokemon_jpg/pokemon_jpg/141.jpg  \n",
      "  inflating: pokemon_jpg/pokemon_jpg/142-mega.jpg  \n",
      "  inflating: pokemon_jpg/pokemon_jpg/142.jpg  \n",
      "  inflating: pokemon_jpg/pokemon_jpg/143.jpg  \n",
      "  inflating: pokemon_jpg/pokemon_jpg/144.jpg  \n",
      "  inflating: pokemon_jpg/pokemon_jpg/145.jpg  \n",
      "  inflating: pokemon_jpg/pokemon_jpg/146.jpg  \n",
      "  inflating: pokemon_jpg/pokemon_jpg/147.jpg  \n",
      "  inflating: pokemon_jpg/pokemon_jpg/148.jpg  \n",
      "  inflating: pokemon_jpg/pokemon_jpg/149.jpg  \n",
      "  inflating: pokemon_jpg/pokemon_jpg/15-mega.jpg  \n",
      "  inflating: pokemon_jpg/pokemon_jpg/15.jpg  \n",
      "  inflating: pokemon_jpg/pokemon_jpg/150-mega-x.jpg  \n",
      "  inflating: pokemon_jpg/pokemon_jpg/150-mega-y.jpg  \n",
      "  inflating: pokemon_jpg/pokemon_jpg/150.jpg  \n",
      "  inflating: pokemon_jpg/pokemon_jpg/151.jpg  \n",
      "  inflating: pokemon_jpg/pokemon_jpg/152.jpg  \n",
      "  inflating: pokemon_jpg/pokemon_jpg/153.jpg  \n",
      "  inflating: pokemon_jpg/pokemon_jpg/154.jpg  \n",
      "  inflating: pokemon_jpg/pokemon_jpg/155.jpg  \n",
      "  inflating: pokemon_jpg/pokemon_jpg/156.jpg  \n",
      "  inflating: pokemon_jpg/pokemon_jpg/157.jpg  \n",
      "  inflating: pokemon_jpg/pokemon_jpg/158.jpg  \n",
      "  inflating: pokemon_jpg/pokemon_jpg/159.jpg  \n",
      "  inflating: pokemon_jpg/pokemon_jpg/16.jpg  \n",
      "  inflating: pokemon_jpg/pokemon_jpg/160.jpg  \n",
      "  inflating: pokemon_jpg/pokemon_jpg/161.jpg  \n",
      "  inflating: pokemon_jpg/pokemon_jpg/162.jpg  \n",
      "  inflating: pokemon_jpg/pokemon_jpg/163.jpg  \n",
      "  inflating: pokemon_jpg/pokemon_jpg/164.jpg  \n",
      "  inflating: pokemon_jpg/pokemon_jpg/165.jpg  \n",
      "  inflating: pokemon_jpg/pokemon_jpg/166.jpg  \n",
      "  inflating: pokemon_jpg/pokemon_jpg/167.jpg  \n",
      "  inflating: pokemon_jpg/pokemon_jpg/168.jpg  \n",
      "  inflating: pokemon_jpg/pokemon_jpg/169.jpg  \n",
      "  inflating: pokemon_jpg/pokemon_jpg/17.jpg  \n",
      "  inflating: pokemon_jpg/pokemon_jpg/170.jpg  \n",
      "  inflating: pokemon_jpg/pokemon_jpg/171.jpg  \n",
      "  inflating: pokemon_jpg/pokemon_jpg/172.jpg  \n",
      "  inflating: pokemon_jpg/pokemon_jpg/173.jpg  \n",
      "  inflating: pokemon_jpg/pokemon_jpg/174.jpg  \n",
      "  inflating: pokemon_jpg/pokemon_jpg/175.jpg  \n",
      "  inflating: pokemon_jpg/pokemon_jpg/176.jpg  \n",
      "  inflating: pokemon_jpg/pokemon_jpg/177.jpg  \n",
      "  inflating: pokemon_jpg/pokemon_jpg/178.jpg  \n",
      "  inflating: pokemon_jpg/pokemon_jpg/179.jpg  \n",
      "  inflating: pokemon_jpg/pokemon_jpg/18-mega.jpg  \n",
      "  inflating: pokemon_jpg/pokemon_jpg/18.jpg  \n",
      "  inflating: pokemon_jpg/pokemon_jpg/180.jpg  \n",
      "  inflating: pokemon_jpg/pokemon_jpg/181-mega.jpg  \n",
      "  inflating: pokemon_jpg/pokemon_jpg/181.jpg  \n",
      "  inflating: pokemon_jpg/pokemon_jpg/182.jpg  \n",
      "  inflating: pokemon_jpg/pokemon_jpg/183.jpg  \n",
      "  inflating: pokemon_jpg/pokemon_jpg/184.jpg  \n",
      "  inflating: pokemon_jpg/pokemon_jpg/185.jpg  \n",
      "  inflating: pokemon_jpg/pokemon_jpg/186.jpg  \n",
      "  inflating: pokemon_jpg/pokemon_jpg/187.jpg  \n",
      "  inflating: pokemon_jpg/pokemon_jpg/188.jpg  \n",
      "  inflating: pokemon_jpg/pokemon_jpg/189.jpg  \n",
      "  inflating: pokemon_jpg/pokemon_jpg/19.jpg  \n",
      "  inflating: pokemon_jpg/pokemon_jpg/190.jpg  \n",
      "  inflating: pokemon_jpg/pokemon_jpg/191.jpg  \n",
      "  inflating: pokemon_jpg/pokemon_jpg/192.jpg  \n",
      "  inflating: pokemon_jpg/pokemon_jpg/193.jpg  \n",
      "  inflating: pokemon_jpg/pokemon_jpg/194.jpg  \n",
      "  inflating: pokemon_jpg/pokemon_jpg/195.jpg  \n",
      "  inflating: pokemon_jpg/pokemon_jpg/196.jpg  \n",
      "  inflating: pokemon_jpg/pokemon_jpg/197.jpg  \n",
      "  inflating: pokemon_jpg/pokemon_jpg/198.jpg  \n",
      "  inflating: pokemon_jpg/pokemon_jpg/199.jpg  \n",
      "  inflating: pokemon_jpg/pokemon_jpg/2.jpg  \n",
      "  inflating: pokemon_jpg/pokemon_jpg/20.jpg  \n",
      "  inflating: pokemon_jpg/pokemon_jpg/200.jpg  \n",
      "  inflating: pokemon_jpg/pokemon_jpg/201-f.jpg  \n",
      "  inflating: pokemon_jpg/pokemon_jpg/202.jpg  \n",
      "  inflating: pokemon_jpg/pokemon_jpg/203.jpg  \n",
      "  inflating: pokemon_jpg/pokemon_jpg/204.jpg  \n",
      "  inflating: pokemon_jpg/pokemon_jpg/205.jpg  \n",
      "  inflating: pokemon_jpg/pokemon_jpg/206.jpg  \n",
      "  inflating: pokemon_jpg/pokemon_jpg/207.jpg  \n",
      "  inflating: pokemon_jpg/pokemon_jpg/208-mega.jpg  \n",
      "  inflating: pokemon_jpg/pokemon_jpg/208.jpg  \n",
      "  inflating: pokemon_jpg/pokemon_jpg/209.jpg  \n",
      "  inflating: pokemon_jpg/pokemon_jpg/21.jpg  \n",
      "  inflating: pokemon_jpg/pokemon_jpg/210.jpg  \n",
      "  inflating: pokemon_jpg/pokemon_jpg/211.jpg  \n",
      "  inflating: pokemon_jpg/pokemon_jpg/212-mega.jpg  \n",
      "  inflating: pokemon_jpg/pokemon_jpg/212.jpg  \n",
      "  inflating: pokemon_jpg/pokemon_jpg/213.jpg  \n",
      "  inflating: pokemon_jpg/pokemon_jpg/214-mega.jpg  \n",
      "  inflating: pokemon_jpg/pokemon_jpg/214.jpg  \n",
      "  inflating: pokemon_jpg/pokemon_jpg/215.jpg  \n",
      "  inflating: pokemon_jpg/pokemon_jpg/216.jpg  \n",
      "  inflating: pokemon_jpg/pokemon_jpg/217.jpg  \n",
      "  inflating: pokemon_jpg/pokemon_jpg/218.jpg  \n",
      "  inflating: pokemon_jpg/pokemon_jpg/219.jpg  \n",
      "  inflating: pokemon_jpg/pokemon_jpg/22.jpg  \n",
      "  inflating: pokemon_jpg/pokemon_jpg/220.jpg  \n",
      "  inflating: pokemon_jpg/pokemon_jpg/221.jpg  \n",
      "  inflating: pokemon_jpg/pokemon_jpg/222.jpg  \n",
      "  inflating: pokemon_jpg/pokemon_jpg/223.jpg  \n",
      "  inflating: pokemon_jpg/pokemon_jpg/224.jpg  \n",
      "  inflating: pokemon_jpg/pokemon_jpg/225.jpg  \n",
      "  inflating: pokemon_jpg/pokemon_jpg/226.jpg  \n",
      "  inflating: pokemon_jpg/pokemon_jpg/227.jpg  \n",
      "  inflating: pokemon_jpg/pokemon_jpg/228.jpg  \n",
      "  inflating: pokemon_jpg/pokemon_jpg/229-mega.jpg  \n",
      "  inflating: pokemon_jpg/pokemon_jpg/229.jpg  \n",
      "  inflating: pokemon_jpg/pokemon_jpg/23.jpg  \n",
      "  inflating: pokemon_jpg/pokemon_jpg/230.jpg  \n",
      "  inflating: pokemon_jpg/pokemon_jpg/231.jpg  \n",
      "  inflating: pokemon_jpg/pokemon_jpg/232.jpg  \n",
      "  inflating: pokemon_jpg/pokemon_jpg/233.jpg  \n",
      "  inflating: pokemon_jpg/pokemon_jpg/234.jpg  \n",
      "  inflating: pokemon_jpg/pokemon_jpg/235.jpg  \n",
      "  inflating: pokemon_jpg/pokemon_jpg/236.jpg  \n",
      "  inflating: pokemon_jpg/pokemon_jpg/237.jpg  \n",
      "  inflating: pokemon_jpg/pokemon_jpg/238.jpg  \n",
      "  inflating: pokemon_jpg/pokemon_jpg/239.jpg  \n",
      "  inflating: pokemon_jpg/pokemon_jpg/24.jpg  \n",
      "  inflating: pokemon_jpg/pokemon_jpg/240.jpg  \n",
      "  inflating: pokemon_jpg/pokemon_jpg/241.jpg  \n",
      "  inflating: pokemon_jpg/pokemon_jpg/242.jpg  \n",
      "  inflating: pokemon_jpg/pokemon_jpg/243.jpg  \n",
      "  inflating: pokemon_jpg/pokemon_jpg/244.jpg  \n",
      "  inflating: pokemon_jpg/pokemon_jpg/245.jpg  \n",
      "  inflating: pokemon_jpg/pokemon_jpg/246.jpg  \n",
      "  inflating: pokemon_jpg/pokemon_jpg/247.jpg  \n",
      "  inflating: pokemon_jpg/pokemon_jpg/248-mega.jpg  \n",
      "  inflating: pokemon_jpg/pokemon_jpg/248.jpg  \n",
      "  inflating: pokemon_jpg/pokemon_jpg/249.jpg  \n",
      "  inflating: pokemon_jpg/pokemon_jpg/25-belle.jpg  \n",
      "  inflating: pokemon_jpg/pokemon_jpg/25-libre.jpg  \n",
      "  inflating: pokemon_jpg/pokemon_jpg/25-phd.jpg  \n",
      "  inflating: pokemon_jpg/pokemon_jpg/25-pop-star.jpg  \n",
      "  inflating: pokemon_jpg/pokemon_jpg/25-rock-star.jpg  \n",
      "  inflating: pokemon_jpg/pokemon_jpg/25.jpg  \n",
      "  inflating: pokemon_jpg/pokemon_jpg/250.jpg  \n",
      "  inflating: pokemon_jpg/pokemon_jpg/251.jpg  \n",
      "  inflating: pokemon_jpg/pokemon_jpg/252.jpg  \n",
      "  inflating: pokemon_jpg/pokemon_jpg/253.jpg  \n",
      "  inflating: pokemon_jpg/pokemon_jpg/254-mega.jpg  \n",
      "  inflating: pokemon_jpg/pokemon_jpg/254.jpg  \n",
      "  inflating: pokemon_jpg/pokemon_jpg/255.jpg  \n",
      "  inflating: pokemon_jpg/pokemon_jpg/256.jpg  \n",
      "  inflating: pokemon_jpg/pokemon_jpg/257-mega.jpg  \n",
      "  inflating: pokemon_jpg/pokemon_jpg/257.jpg  \n",
      "  inflating: pokemon_jpg/pokemon_jpg/258.jpg  \n",
      "  inflating: pokemon_jpg/pokemon_jpg/259.jpg  \n",
      "  inflating: pokemon_jpg/pokemon_jpg/26.jpg  \n",
      "  inflating: pokemon_jpg/pokemon_jpg/260-mega.jpg  \n",
      "  inflating: pokemon_jpg/pokemon_jpg/260.jpg  \n",
      "  inflating: pokemon_jpg/pokemon_jpg/261.jpg  \n",
      "  inflating: pokemon_jpg/pokemon_jpg/262.jpg  \n",
      "  inflating: pokemon_jpg/pokemon_jpg/263.jpg  \n",
      "  inflating: pokemon_jpg/pokemon_jpg/264.jpg  \n",
      "  inflating: pokemon_jpg/pokemon_jpg/265.jpg  \n",
      "  inflating: pokemon_jpg/pokemon_jpg/266.jpg  \n",
      "  inflating: pokemon_jpg/pokemon_jpg/267.jpg  \n",
      "  inflating: pokemon_jpg/pokemon_jpg/268.jpg  \n",
      "  inflating: pokemon_jpg/pokemon_jpg/269.jpg  \n",
      "  inflating: pokemon_jpg/pokemon_jpg/27.jpg  \n",
      "  inflating: pokemon_jpg/pokemon_jpg/270.jpg  \n",
      "  inflating: pokemon_jpg/pokemon_jpg/271.jpg  \n",
      "  inflating: pokemon_jpg/pokemon_jpg/272.jpg  \n",
      "  inflating: pokemon_jpg/pokemon_jpg/273.jpg  \n",
      "  inflating: pokemon_jpg/pokemon_jpg/274.jpg  \n",
      "  inflating: pokemon_jpg/pokemon_jpg/275.jpg  \n",
      "  inflating: pokemon_jpg/pokemon_jpg/276.jpg  \n",
      "  inflating: pokemon_jpg/pokemon_jpg/277.jpg  \n",
      "  inflating: pokemon_jpg/pokemon_jpg/278.jpg  \n",
      "  inflating: pokemon_jpg/pokemon_jpg/279.jpg  \n",
      "  inflating: pokemon_jpg/pokemon_jpg/28.jpg  \n",
      "  inflating: pokemon_jpg/pokemon_jpg/280.jpg  \n",
      "  inflating: pokemon_jpg/pokemon_jpg/281.jpg  \n",
      "  inflating: pokemon_jpg/pokemon_jpg/282-mega.jpg  \n",
      "  inflating: pokemon_jpg/pokemon_jpg/282.jpg  \n",
      "  inflating: pokemon_jpg/pokemon_jpg/283.jpg  \n",
      "  inflating: pokemon_jpg/pokemon_jpg/284.jpg  \n",
      "  inflating: pokemon_jpg/pokemon_jpg/285.jpg  \n",
      "  inflating: pokemon_jpg/pokemon_jpg/286.jpg  \n",
      "  inflating: pokemon_jpg/pokemon_jpg/287.jpg  \n",
      "  inflating: pokemon_jpg/pokemon_jpg/288.jpg  \n",
      "  inflating: pokemon_jpg/pokemon_jpg/289.jpg  \n",
      "  inflating: pokemon_jpg/pokemon_jpg/29.jpg  \n",
      "  inflating: pokemon_jpg/pokemon_jpg/290.jpg  \n",
      "  inflating: pokemon_jpg/pokemon_jpg/291.jpg  \n",
      "  inflating: pokemon_jpg/pokemon_jpg/292.jpg  \n",
      "  inflating: pokemon_jpg/pokemon_jpg/293.jpg  \n",
      "  inflating: pokemon_jpg/pokemon_jpg/294.jpg  \n",
      "  inflating: pokemon_jpg/pokemon_jpg/295.jpg  \n",
      "  inflating: pokemon_jpg/pokemon_jpg/296.jpg  \n",
      "  inflating: pokemon_jpg/pokemon_jpg/297.jpg  \n",
      "  inflating: pokemon_jpg/pokemon_jpg/298.jpg  \n",
      "  inflating: pokemon_jpg/pokemon_jpg/299.jpg  \n",
      "  inflating: pokemon_jpg/pokemon_jpg/3-mega.jpg  \n",
      "  inflating: pokemon_jpg/pokemon_jpg/3.jpg  \n",
      "  inflating: pokemon_jpg/pokemon_jpg/30.jpg  \n",
      "  inflating: pokemon_jpg/pokemon_jpg/300.jpg  \n",
      "  inflating: pokemon_jpg/pokemon_jpg/301.jpg  \n",
      "  inflating: pokemon_jpg/pokemon_jpg/302-mega.jpg  \n",
      "  inflating: pokemon_jpg/pokemon_jpg/302.jpg  \n",
      "  inflating: pokemon_jpg/pokemon_jpg/303-mega.jpg  \n",
      "  inflating: pokemon_jpg/pokemon_jpg/303.jpg  \n",
      "  inflating: pokemon_jpg/pokemon_jpg/304.jpg  \n",
      "  inflating: pokemon_jpg/pokemon_jpg/305.jpg  \n",
      "  inflating: pokemon_jpg/pokemon_jpg/306-mega.jpg  \n",
      "  inflating: pokemon_jpg/pokemon_jpg/306.jpg  \n",
      "  inflating: pokemon_jpg/pokemon_jpg/307.jpg  \n",
      "  inflating: pokemon_jpg/pokemon_jpg/308-mega.jpg  \n",
      "  inflating: pokemon_jpg/pokemon_jpg/308.jpg  \n",
      "  inflating: pokemon_jpg/pokemon_jpg/309.jpg  \n",
      "  inflating: pokemon_jpg/pokemon_jpg/31.jpg  \n",
      "  inflating: pokemon_jpg/pokemon_jpg/310-mega.jpg  \n",
      "  inflating: pokemon_jpg/pokemon_jpg/310.jpg  \n",
      "  inflating: pokemon_jpg/pokemon_jpg/311.jpg  \n",
      "  inflating: pokemon_jpg/pokemon_jpg/312.jpg  \n",
      "  inflating: pokemon_jpg/pokemon_jpg/313.jpg  \n",
      "  inflating: pokemon_jpg/pokemon_jpg/314.jpg  \n",
      "  inflating: pokemon_jpg/pokemon_jpg/315.jpg  \n",
      "  inflating: pokemon_jpg/pokemon_jpg/316.jpg  \n",
      "  inflating: pokemon_jpg/pokemon_jpg/317.jpg  \n",
      "  inflating: pokemon_jpg/pokemon_jpg/318.jpg  \n",
      "  inflating: pokemon_jpg/pokemon_jpg/319-mega.jpg  \n",
      "  inflating: pokemon_jpg/pokemon_jpg/319.jpg  \n",
      "  inflating: pokemon_jpg/pokemon_jpg/32.jpg  \n",
      "  inflating: pokemon_jpg/pokemon_jpg/320.jpg  \n",
      "  inflating: pokemon_jpg/pokemon_jpg/321.jpg  \n",
      "  inflating: pokemon_jpg/pokemon_jpg/322.jpg  \n",
      "  inflating: pokemon_jpg/pokemon_jpg/323-mega.jpg  \n",
      "  inflating: pokemon_jpg/pokemon_jpg/323.jpg  \n",
      "  inflating: pokemon_jpg/pokemon_jpg/324.jpg  \n",
      "  inflating: pokemon_jpg/pokemon_jpg/325.jpg  \n",
      "  inflating: pokemon_jpg/pokemon_jpg/326.jpg  \n",
      "  inflating: pokemon_jpg/pokemon_jpg/327.jpg  \n",
      "  inflating: pokemon_jpg/pokemon_jpg/328.jpg  \n",
      "  inflating: pokemon_jpg/pokemon_jpg/329.jpg  \n",
      "  inflating: pokemon_jpg/pokemon_jpg/33.jpg  \n",
      "  inflating: pokemon_jpg/pokemon_jpg/330.jpg  \n",
      "  inflating: pokemon_jpg/pokemon_jpg/331.jpg  \n",
      "  inflating: pokemon_jpg/pokemon_jpg/332.jpg  \n",
      "  inflating: pokemon_jpg/pokemon_jpg/333.jpg  \n",
      "  inflating: pokemon_jpg/pokemon_jpg/334-mega.jpg  \n",
      "  inflating: pokemon_jpg/pokemon_jpg/334.jpg  \n",
      "  inflating: pokemon_jpg/pokemon_jpg/335.jpg  \n",
      "  inflating: pokemon_jpg/pokemon_jpg/336.jpg  \n",
      "  inflating: pokemon_jpg/pokemon_jpg/337.jpg  \n",
      "  inflating: pokemon_jpg/pokemon_jpg/338.jpg  \n",
      "  inflating: pokemon_jpg/pokemon_jpg/339.jpg  \n",
      "  inflating: pokemon_jpg/pokemon_jpg/34.jpg  \n",
      "  inflating: pokemon_jpg/pokemon_jpg/340.jpg  \n",
      "  inflating: pokemon_jpg/pokemon_jpg/341.jpg  \n",
      "  inflating: pokemon_jpg/pokemon_jpg/342.jpg  \n",
      "  inflating: pokemon_jpg/pokemon_jpg/343.jpg  \n",
      "  inflating: pokemon_jpg/pokemon_jpg/344.jpg  \n",
      "  inflating: pokemon_jpg/pokemon_jpg/345.jpg  \n",
      "  inflating: pokemon_jpg/pokemon_jpg/346.jpg  \n",
      "  inflating: pokemon_jpg/pokemon_jpg/347.jpg  \n",
      "  inflating: pokemon_jpg/pokemon_jpg/348.jpg  \n",
      "  inflating: pokemon_jpg/pokemon_jpg/349.jpg  \n",
      "  inflating: pokemon_jpg/pokemon_jpg/35.jpg  \n",
      "  inflating: pokemon_jpg/pokemon_jpg/350.jpg  \n",
      "  inflating: pokemon_jpg/pokemon_jpg/351.jpg  \n",
      "  inflating: pokemon_jpg/pokemon_jpg/352.jpg  \n",
      "  inflating: pokemon_jpg/pokemon_jpg/353.jpg  \n",
      "  inflating: pokemon_jpg/pokemon_jpg/354-mega.jpg  \n",
      "  inflating: pokemon_jpg/pokemon_jpg/354.jpg  \n",
      "  inflating: pokemon_jpg/pokemon_jpg/355.jpg  \n",
      "  inflating: pokemon_jpg/pokemon_jpg/356.jpg  \n",
      "  inflating: pokemon_jpg/pokemon_jpg/357.jpg  \n",
      "  inflating: pokemon_jpg/pokemon_jpg/358.jpg  \n",
      "  inflating: pokemon_jpg/pokemon_jpg/359-mega.jpg  \n",
      "  inflating: pokemon_jpg/pokemon_jpg/359.jpg  \n",
      "  inflating: pokemon_jpg/pokemon_jpg/36.jpg  \n",
      "  inflating: pokemon_jpg/pokemon_jpg/360.jpg  \n",
      "  inflating: pokemon_jpg/pokemon_jpg/361.jpg  \n",
      "  inflating: pokemon_jpg/pokemon_jpg/362-mega.jpg  \n",
      "  inflating: pokemon_jpg/pokemon_jpg/362.jpg  \n",
      "  inflating: pokemon_jpg/pokemon_jpg/363.jpg  \n",
      "  inflating: pokemon_jpg/pokemon_jpg/364.jpg  \n",
      "  inflating: pokemon_jpg/pokemon_jpg/365.jpg  \n",
      "  inflating: pokemon_jpg/pokemon_jpg/366.jpg  \n",
      "  inflating: pokemon_jpg/pokemon_jpg/367.jpg  \n",
      "  inflating: pokemon_jpg/pokemon_jpg/368.jpg  \n",
      "  inflating: pokemon_jpg/pokemon_jpg/369.jpg  \n",
      "  inflating: pokemon_jpg/pokemon_jpg/37.jpg  \n",
      "  inflating: pokemon_jpg/pokemon_jpg/370.jpg  \n",
      "  inflating: pokemon_jpg/pokemon_jpg/371.jpg  \n",
      "  inflating: pokemon_jpg/pokemon_jpg/372.jpg  \n",
      "  inflating: pokemon_jpg/pokemon_jpg/373-mega.jpg  \n",
      "  inflating: pokemon_jpg/pokemon_jpg/373.jpg  \n",
      "  inflating: pokemon_jpg/pokemon_jpg/374.jpg  \n",
      "  inflating: pokemon_jpg/pokemon_jpg/375.jpg  \n",
      "  inflating: pokemon_jpg/pokemon_jpg/376-mega.jpg  \n",
      "  inflating: pokemon_jpg/pokemon_jpg/376.jpg  \n",
      "  inflating: pokemon_jpg/pokemon_jpg/377.jpg  \n",
      "  inflating: pokemon_jpg/pokemon_jpg/378.jpg  \n",
      "  inflating: pokemon_jpg/pokemon_jpg/379.jpg  \n",
      "  inflating: pokemon_jpg/pokemon_jpg/38.jpg  \n",
      "  inflating: pokemon_jpg/pokemon_jpg/380-mega.jpg  \n",
      "  inflating: pokemon_jpg/pokemon_jpg/380.jpg  \n",
      "  inflating: pokemon_jpg/pokemon_jpg/381-mega.jpg  \n",
      "  inflating: pokemon_jpg/pokemon_jpg/381.jpg  \n",
      "  inflating: pokemon_jpg/pokemon_jpg/382-primal.jpg  \n",
      "  inflating: pokemon_jpg/pokemon_jpg/382.jpg  \n",
      "  inflating: pokemon_jpg/pokemon_jpg/383-primal.jpg  \n",
      "  inflating: pokemon_jpg/pokemon_jpg/383.jpg  \n",
      "  inflating: pokemon_jpg/pokemon_jpg/384-mega.jpg  \n",
      "  inflating: pokemon_jpg/pokemon_jpg/384.jpg  \n",
      "  inflating: pokemon_jpg/pokemon_jpg/385.jpg  \n",
      "  inflating: pokemon_jpg/pokemon_jpg/386-attack.jpg  \n",
      "  inflating: pokemon_jpg/pokemon_jpg/386-defense.jpg  \n",
      "  inflating: pokemon_jpg/pokemon_jpg/386-normal.jpg  \n",
      "  inflating: pokemon_jpg/pokemon_jpg/386-speed.jpg  \n",
      "  inflating: pokemon_jpg/pokemon_jpg/387.jpg  \n",
      "  inflating: pokemon_jpg/pokemon_jpg/388.jpg  \n",
      "  inflating: pokemon_jpg/pokemon_jpg/389.jpg  \n",
      "  inflating: pokemon_jpg/pokemon_jpg/39.jpg  \n",
      "  inflating: pokemon_jpg/pokemon_jpg/390.jpg  \n",
      "  inflating: pokemon_jpg/pokemon_jpg/391.jpg  \n",
      "  inflating: pokemon_jpg/pokemon_jpg/392.jpg  \n",
      "  inflating: pokemon_jpg/pokemon_jpg/393.jpg  \n",
      "  inflating: pokemon_jpg/pokemon_jpg/394.jpg  \n",
      "  inflating: pokemon_jpg/pokemon_jpg/395.jpg  \n",
      "  inflating: pokemon_jpg/pokemon_jpg/396.jpg  \n",
      "  inflating: pokemon_jpg/pokemon_jpg/397.jpg  \n",
      "  inflating: pokemon_jpg/pokemon_jpg/398.jpg  \n",
      "  inflating: pokemon_jpg/pokemon_jpg/399.jpg  \n",
      "  inflating: pokemon_jpg/pokemon_jpg/4.jpg  \n",
      "  inflating: pokemon_jpg/pokemon_jpg/40.jpg  \n",
      "  inflating: pokemon_jpg/pokemon_jpg/400.jpg  \n",
      "  inflating: pokemon_jpg/pokemon_jpg/401.jpg  \n",
      "  inflating: pokemon_jpg/pokemon_jpg/402.jpg  \n",
      "  inflating: pokemon_jpg/pokemon_jpg/403.jpg  \n",
      "  inflating: pokemon_jpg/pokemon_jpg/404.jpg  \n",
      "  inflating: pokemon_jpg/pokemon_jpg/405.jpg  \n",
      "  inflating: pokemon_jpg/pokemon_jpg/406.jpg  \n",
      "  inflating: pokemon_jpg/pokemon_jpg/407.jpg  \n",
      "  inflating: pokemon_jpg/pokemon_jpg/408.jpg  \n",
      "  inflating: pokemon_jpg/pokemon_jpg/409.jpg  \n",
      "  inflating: pokemon_jpg/pokemon_jpg/41.jpg  \n",
      "  inflating: pokemon_jpg/pokemon_jpg/410.jpg  \n",
      "  inflating: pokemon_jpg/pokemon_jpg/411.jpg  \n",
      "  inflating: pokemon_jpg/pokemon_jpg/412-plant.jpg  \n",
      "  inflating: pokemon_jpg/pokemon_jpg/412-sandy.jpg  \n",
      "  inflating: pokemon_jpg/pokemon_jpg/412-trash.jpg  \n",
      "  inflating: pokemon_jpg/pokemon_jpg/413-plant.jpg  \n",
      "  inflating: pokemon_jpg/pokemon_jpg/413-sandy.jpg  \n",
      "  inflating: pokemon_jpg/pokemon_jpg/413-trash.jpg  \n",
      "  inflating: pokemon_jpg/pokemon_jpg/414.jpg  \n",
      "  inflating: pokemon_jpg/pokemon_jpg/415.jpg  \n",
      "  inflating: pokemon_jpg/pokemon_jpg/416.jpg  \n",
      "  inflating: pokemon_jpg/pokemon_jpg/417.jpg  \n",
      "  inflating: pokemon_jpg/pokemon_jpg/418.jpg  \n",
      "  inflating: pokemon_jpg/pokemon_jpg/419.jpg  \n",
      "  inflating: pokemon_jpg/pokemon_jpg/42.jpg  \n",
      "  inflating: pokemon_jpg/pokemon_jpg/420.jpg  \n",
      "  inflating: pokemon_jpg/pokemon_jpg/421-overcast.jpg  \n",
      "  inflating: pokemon_jpg/pokemon_jpg/421-sunshine.jpg  \n",
      "  inflating: pokemon_jpg/pokemon_jpg/422-east.jpg  \n",
      "  inflating: pokemon_jpg/pokemon_jpg/422-west.jpg  \n",
      "  inflating: pokemon_jpg/pokemon_jpg/423-east.jpg  \n",
      "  inflating: pokemon_jpg/pokemon_jpg/423-west.jpg  \n",
      "  inflating: pokemon_jpg/pokemon_jpg/424.jpg  \n",
      "  inflating: pokemon_jpg/pokemon_jpg/425.jpg  \n",
      "  inflating: pokemon_jpg/pokemon_jpg/426.jpg  \n",
      "  inflating: pokemon_jpg/pokemon_jpg/427.jpg  \n",
      "  inflating: pokemon_jpg/pokemon_jpg/428-mega.jpg  \n",
      "  inflating: pokemon_jpg/pokemon_jpg/428.jpg  \n",
      "  inflating: pokemon_jpg/pokemon_jpg/429.jpg  \n",
      "  inflating: pokemon_jpg/pokemon_jpg/43.jpg  \n",
      "  inflating: pokemon_jpg/pokemon_jpg/430.jpg  \n",
      "  inflating: pokemon_jpg/pokemon_jpg/431.jpg  \n",
      "  inflating: pokemon_jpg/pokemon_jpg/432.jpg  \n",
      "  inflating: pokemon_jpg/pokemon_jpg/433.jpg  \n",
      "  inflating: pokemon_jpg/pokemon_jpg/434.jpg  \n",
      "  inflating: pokemon_jpg/pokemon_jpg/435.jpg  \n",
      "  inflating: pokemon_jpg/pokemon_jpg/436.jpg  \n",
      "  inflating: pokemon_jpg/pokemon_jpg/437.jpg  \n",
      "  inflating: pokemon_jpg/pokemon_jpg/438.jpg  \n",
      "  inflating: pokemon_jpg/pokemon_jpg/439.jpg  \n",
      "  inflating: pokemon_jpg/pokemon_jpg/44.jpg  \n",
      "  inflating: pokemon_jpg/pokemon_jpg/440.jpg  \n",
      "  inflating: pokemon_jpg/pokemon_jpg/441.jpg  \n",
      "  inflating: pokemon_jpg/pokemon_jpg/442.jpg  \n",
      "  inflating: pokemon_jpg/pokemon_jpg/443.jpg  \n",
      "  inflating: pokemon_jpg/pokemon_jpg/444.jpg  \n",
      "  inflating: pokemon_jpg/pokemon_jpg/445-mega.jpg  \n",
      "  inflating: pokemon_jpg/pokemon_jpg/445.jpg  \n",
      "  inflating: pokemon_jpg/pokemon_jpg/446.jpg  \n",
      "  inflating: pokemon_jpg/pokemon_jpg/447.jpg  \n",
      "  inflating: pokemon_jpg/pokemon_jpg/448-mega.jpg  \n",
      "  inflating: pokemon_jpg/pokemon_jpg/448.jpg  \n",
      "  inflating: pokemon_jpg/pokemon_jpg/449.jpg  \n",
      "  inflating: pokemon_jpg/pokemon_jpg/45.jpg  \n",
      "  inflating: pokemon_jpg/pokemon_jpg/450.jpg  \n",
      "  inflating: pokemon_jpg/pokemon_jpg/451.jpg  \n",
      "  inflating: pokemon_jpg/pokemon_jpg/452.jpg  \n",
      "  inflating: pokemon_jpg/pokemon_jpg/453.jpg  \n",
      "  inflating: pokemon_jpg/pokemon_jpg/454.jpg  \n",
      "  inflating: pokemon_jpg/pokemon_jpg/455.jpg  \n",
      "  inflating: pokemon_jpg/pokemon_jpg/456.jpg  \n",
      "  inflating: pokemon_jpg/pokemon_jpg/457.jpg  \n",
      "  inflating: pokemon_jpg/pokemon_jpg/458.jpg  \n",
      "  inflating: pokemon_jpg/pokemon_jpg/459.jpg  \n",
      "  inflating: pokemon_jpg/pokemon_jpg/46.jpg  \n",
      "  inflating: pokemon_jpg/pokemon_jpg/460-mega.jpg  \n",
      "  inflating: pokemon_jpg/pokemon_jpg/460.jpg  \n",
      "  inflating: pokemon_jpg/pokemon_jpg/461.jpg  \n",
      "  inflating: pokemon_jpg/pokemon_jpg/462.jpg  \n",
      "  inflating: pokemon_jpg/pokemon_jpg/463.jpg  \n",
      "  inflating: pokemon_jpg/pokemon_jpg/464.jpg  \n",
      "  inflating: pokemon_jpg/pokemon_jpg/465.jpg  \n",
      "  inflating: pokemon_jpg/pokemon_jpg/466.jpg  \n",
      "  inflating: pokemon_jpg/pokemon_jpg/467.jpg  \n",
      "  inflating: pokemon_jpg/pokemon_jpg/468.jpg  \n",
      "  inflating: pokemon_jpg/pokemon_jpg/469.jpg  \n",
      "  inflating: pokemon_jpg/pokemon_jpg/47.jpg  \n",
      "  inflating: pokemon_jpg/pokemon_jpg/470.jpg  \n",
      "  inflating: pokemon_jpg/pokemon_jpg/471.jpg  \n",
      "  inflating: pokemon_jpg/pokemon_jpg/472.jpg  \n",
      "  inflating: pokemon_jpg/pokemon_jpg/473.jpg  \n",
      "  inflating: pokemon_jpg/pokemon_jpg/474.jpg  \n",
      "  inflating: pokemon_jpg/pokemon_jpg/475-mega.jpg  \n",
      "  inflating: pokemon_jpg/pokemon_jpg/475.jpg  \n",
      "  inflating: pokemon_jpg/pokemon_jpg/476.jpg  \n",
      "  inflating: pokemon_jpg/pokemon_jpg/477.jpg  \n",
      "  inflating: pokemon_jpg/pokemon_jpg/478.jpg  \n",
      "  inflating: pokemon_jpg/pokemon_jpg/479-fan.jpg  \n",
      "  inflating: pokemon_jpg/pokemon_jpg/479-frost.jpg  \n",
      "  inflating: pokemon_jpg/pokemon_jpg/479-heat.jpg  \n",
      "  inflating: pokemon_jpg/pokemon_jpg/479-mow.jpg  \n",
      "  inflating: pokemon_jpg/pokemon_jpg/479-wash.jpg  \n",
      "  inflating: pokemon_jpg/pokemon_jpg/479.jpg  \n",
      "  inflating: pokemon_jpg/pokemon_jpg/48.jpg  \n",
      "  inflating: pokemon_jpg/pokemon_jpg/480.jpg  \n",
      "  inflating: pokemon_jpg/pokemon_jpg/481.jpg  \n",
      "  inflating: pokemon_jpg/pokemon_jpg/482.jpg  \n",
      "  inflating: pokemon_jpg/pokemon_jpg/483.jpg  \n",
      "  inflating: pokemon_jpg/pokemon_jpg/484.jpg  \n",
      "  inflating: pokemon_jpg/pokemon_jpg/485.jpg  \n",
      "  inflating: pokemon_jpg/pokemon_jpg/486.jpg  \n",
      "  inflating: pokemon_jpg/pokemon_jpg/487-altered.jpg  \n",
      "  inflating: pokemon_jpg/pokemon_jpg/487-origin.jpg  \n",
      "  inflating: pokemon_jpg/pokemon_jpg/488.jpg  \n",
      "  inflating: pokemon_jpg/pokemon_jpg/489.jpg  \n",
      "  inflating: pokemon_jpg/pokemon_jpg/49.jpg  \n",
      "  inflating: pokemon_jpg/pokemon_jpg/490.jpg  \n",
      "  inflating: pokemon_jpg/pokemon_jpg/491.jpg  \n",
      "  inflating: pokemon_jpg/pokemon_jpg/492-land.jpg  \n",
      "  inflating: pokemon_jpg/pokemon_jpg/492-sky.jpg  \n",
      "  inflating: pokemon_jpg/pokemon_jpg/493-normal.jpg  \n",
      "  inflating: pokemon_jpg/pokemon_jpg/494.jpg  \n",
      "  inflating: pokemon_jpg/pokemon_jpg/495.jpg  \n",
      "  inflating: pokemon_jpg/pokemon_jpg/496.jpg  \n",
      "  inflating: pokemon_jpg/pokemon_jpg/497.jpg  \n",
      "  inflating: pokemon_jpg/pokemon_jpg/498.jpg  \n",
      "  inflating: pokemon_jpg/pokemon_jpg/499.jpg  \n",
      "  inflating: pokemon_jpg/pokemon_jpg/5.jpg  \n",
      "  inflating: pokemon_jpg/pokemon_jpg/50.jpg  \n",
      "  inflating: pokemon_jpg/pokemon_jpg/500.jpg  \n",
      "  inflating: pokemon_jpg/pokemon_jpg/501.jpg  \n",
      "  inflating: pokemon_jpg/pokemon_jpg/502.jpg  \n",
      "  inflating: pokemon_jpg/pokemon_jpg/503.jpg  \n",
      "  inflating: pokemon_jpg/pokemon_jpg/504.jpg  \n",
      "  inflating: pokemon_jpg/pokemon_jpg/505.jpg  \n",
      "  inflating: pokemon_jpg/pokemon_jpg/506.jpg  \n",
      "  inflating: pokemon_jpg/pokemon_jpg/507.jpg  \n",
      "  inflating: pokemon_jpg/pokemon_jpg/508.jpg  \n",
      "  inflating: pokemon_jpg/pokemon_jpg/509.jpg  \n",
      "  inflating: pokemon_jpg/pokemon_jpg/51.jpg  \n",
      "  inflating: pokemon_jpg/pokemon_jpg/510.jpg  \n",
      "  inflating: pokemon_jpg/pokemon_jpg/511.jpg  \n",
      "  inflating: pokemon_jpg/pokemon_jpg/512.jpg  \n",
      "  inflating: pokemon_jpg/pokemon_jpg/513.jpg  \n",
      "  inflating: pokemon_jpg/pokemon_jpg/514.jpg  \n",
      "  inflating: pokemon_jpg/pokemon_jpg/515.jpg  \n",
      "  inflating: pokemon_jpg/pokemon_jpg/516.jpg  \n",
      "  inflating: pokemon_jpg/pokemon_jpg/517.jpg  \n",
      "  inflating: pokemon_jpg/pokemon_jpg/518.jpg  \n",
      "  inflating: pokemon_jpg/pokemon_jpg/519.jpg  \n",
      "  inflating: pokemon_jpg/pokemon_jpg/52.jpg  \n",
      "  inflating: pokemon_jpg/pokemon_jpg/520.jpg  \n",
      "  inflating: pokemon_jpg/pokemon_jpg/521.jpg  \n",
      "  inflating: pokemon_jpg/pokemon_jpg/521f.jpg  \n",
      "  inflating: pokemon_jpg/pokemon_jpg/522.jpg  \n",
      "  inflating: pokemon_jpg/pokemon_jpg/523.jpg  \n",
      "  inflating: pokemon_jpg/pokemon_jpg/524.jpg  \n",
      "  inflating: pokemon_jpg/pokemon_jpg/525.jpg  \n",
      "  inflating: pokemon_jpg/pokemon_jpg/526.jpg  \n",
      "  inflating: pokemon_jpg/pokemon_jpg/527.jpg  \n",
      "  inflating: pokemon_jpg/pokemon_jpg/528.jpg  \n",
      "  inflating: pokemon_jpg/pokemon_jpg/529.jpg  \n",
      "  inflating: pokemon_jpg/pokemon_jpg/53.jpg  \n",
      "  inflating: pokemon_jpg/pokemon_jpg/530.jpg  \n",
      "  inflating: pokemon_jpg/pokemon_jpg/531-mega.jpg  \n",
      "  inflating: pokemon_jpg/pokemon_jpg/531.jpg  \n",
      "  inflating: pokemon_jpg/pokemon_jpg/532.jpg  \n",
      "  inflating: pokemon_jpg/pokemon_jpg/533.jpg  \n",
      "  inflating: pokemon_jpg/pokemon_jpg/534.jpg  \n",
      "  inflating: pokemon_jpg/pokemon_jpg/535.jpg  \n",
      "  inflating: pokemon_jpg/pokemon_jpg/536.jpg  \n",
      "  inflating: pokemon_jpg/pokemon_jpg/537.jpg  \n",
      "  inflating: pokemon_jpg/pokemon_jpg/538.jpg  \n",
      "  inflating: pokemon_jpg/pokemon_jpg/539.jpg  \n",
      "  inflating: pokemon_jpg/pokemon_jpg/54.jpg  \n",
      "  inflating: pokemon_jpg/pokemon_jpg/540.jpg  \n",
      "  inflating: pokemon_jpg/pokemon_jpg/541.jpg  \n",
      "  inflating: pokemon_jpg/pokemon_jpg/542.jpg  \n",
      "  inflating: pokemon_jpg/pokemon_jpg/543.jpg  \n",
      "  inflating: pokemon_jpg/pokemon_jpg/544.jpg  \n",
      "  inflating: pokemon_jpg/pokemon_jpg/545.jpg  \n",
      "  inflating: pokemon_jpg/pokemon_jpg/546.jpg  \n",
      "  inflating: pokemon_jpg/pokemon_jpg/547.jpg  \n",
      "  inflating: pokemon_jpg/pokemon_jpg/548.jpg  \n",
      "  inflating: pokemon_jpg/pokemon_jpg/549.jpg  \n",
      "  inflating: pokemon_jpg/pokemon_jpg/55.jpg  \n",
      "  inflating: pokemon_jpg/pokemon_jpg/550-blue-striped.jpg  \n",
      "  inflating: pokemon_jpg/pokemon_jpg/550-red-striped.jpg  \n",
      "  inflating: pokemon_jpg/pokemon_jpg/551.jpg  \n",
      "  inflating: pokemon_jpg/pokemon_jpg/552.jpg  \n",
      "  inflating: pokemon_jpg/pokemon_jpg/553.jpg  \n",
      "  inflating: pokemon_jpg/pokemon_jpg/554.jpg  \n",
      "  inflating: pokemon_jpg/pokemon_jpg/555-standard.jpg  \n",
      "  inflating: pokemon_jpg/pokemon_jpg/556.jpg  \n",
      "  inflating: pokemon_jpg/pokemon_jpg/557.jpg  \n",
      "  inflating: pokemon_jpg/pokemon_jpg/558.jpg  \n",
      "  inflating: pokemon_jpg/pokemon_jpg/559.jpg  \n",
      "  inflating: pokemon_jpg/pokemon_jpg/56.jpg  \n",
      "  inflating: pokemon_jpg/pokemon_jpg/560.jpg  \n",
      "  inflating: pokemon_jpg/pokemon_jpg/561.jpg  \n",
      "  inflating: pokemon_jpg/pokemon_jpg/562.jpg  \n",
      "  inflating: pokemon_jpg/pokemon_jpg/563.jpg  \n",
      "  inflating: pokemon_jpg/pokemon_jpg/564.jpg  \n",
      "  inflating: pokemon_jpg/pokemon_jpg/565.jpg  \n",
      "  inflating: pokemon_jpg/pokemon_jpg/566.jpg  \n",
      "  inflating: pokemon_jpg/pokemon_jpg/567.jpg  \n",
      "  inflating: pokemon_jpg/pokemon_jpg/568.jpg  \n",
      "  inflating: pokemon_jpg/pokemon_jpg/569.jpg  \n",
      "  inflating: pokemon_jpg/pokemon_jpg/57.jpg  \n",
      "  inflating: pokemon_jpg/pokemon_jpg/570.jpg  \n",
      "  inflating: pokemon_jpg/pokemon_jpg/571.jpg  \n",
      "  inflating: pokemon_jpg/pokemon_jpg/572.jpg  \n",
      "  inflating: pokemon_jpg/pokemon_jpg/573.jpg  \n",
      "  inflating: pokemon_jpg/pokemon_jpg/574.jpg  \n",
      "  inflating: pokemon_jpg/pokemon_jpg/575.jpg  \n",
      "  inflating: pokemon_jpg/pokemon_jpg/576.jpg  \n",
      "  inflating: pokemon_jpg/pokemon_jpg/577.jpg  \n",
      "  inflating: pokemon_jpg/pokemon_jpg/578.jpg  \n",
      "  inflating: pokemon_jpg/pokemon_jpg/579.jpg  \n",
      "  inflating: pokemon_jpg/pokemon_jpg/58.jpg  \n",
      "  inflating: pokemon_jpg/pokemon_jpg/580.jpg  \n",
      "  inflating: pokemon_jpg/pokemon_jpg/581.jpg  \n",
      "  inflating: pokemon_jpg/pokemon_jpg/582.jpg  \n",
      "  inflating: pokemon_jpg/pokemon_jpg/583.jpg  \n",
      "  inflating: pokemon_jpg/pokemon_jpg/584.jpg  \n",
      "  inflating: pokemon_jpg/pokemon_jpg/585-autumn.jpg  \n",
      "  inflating: pokemon_jpg/pokemon_jpg/585-spring.jpg  \n",
      "  inflating: pokemon_jpg/pokemon_jpg/585-summer.jpg  \n",
      "  inflating: pokemon_jpg/pokemon_jpg/585-winter.jpg  \n",
      "  inflating: pokemon_jpg/pokemon_jpg/586-autumn.jpg  \n",
      "  inflating: pokemon_jpg/pokemon_jpg/586-spring.jpg  \n",
      "  inflating: pokemon_jpg/pokemon_jpg/586-summer.jpg  \n",
      "  inflating: pokemon_jpg/pokemon_jpg/586-winter.jpg  \n",
      "  inflating: pokemon_jpg/pokemon_jpg/587.jpg  \n",
      "  inflating: pokemon_jpg/pokemon_jpg/588.jpg  \n",
      "  inflating: pokemon_jpg/pokemon_jpg/589.jpg  \n",
      "  inflating: pokemon_jpg/pokemon_jpg/59.jpg  \n",
      "  inflating: pokemon_jpg/pokemon_jpg/590.jpg  \n",
      "  inflating: pokemon_jpg/pokemon_jpg/591.jpg  \n",
      "  inflating: pokemon_jpg/pokemon_jpg/592.jpg  \n",
      "  inflating: pokemon_jpg/pokemon_jpg/592f.jpg  \n",
      "  inflating: pokemon_jpg/pokemon_jpg/593.jpg  \n",
      "  inflating: pokemon_jpg/pokemon_jpg/593f.jpg  \n",
      "  inflating: pokemon_jpg/pokemon_jpg/594.jpg  \n",
      "  inflating: pokemon_jpg/pokemon_jpg/595.jpg  \n",
      "  inflating: pokemon_jpg/pokemon_jpg/596.jpg  \n",
      "  inflating: pokemon_jpg/pokemon_jpg/597.jpg  \n",
      "  inflating: pokemon_jpg/pokemon_jpg/598.jpg  \n",
      "  inflating: pokemon_jpg/pokemon_jpg/599.jpg  \n",
      "  inflating: pokemon_jpg/pokemon_jpg/6-mega-x.jpg  \n",
      "  inflating: pokemon_jpg/pokemon_jpg/6-mega-y.jpg  \n",
      "  inflating: pokemon_jpg/pokemon_jpg/6.jpg  \n",
      "  inflating: pokemon_jpg/pokemon_jpg/60.jpg  \n",
      "  inflating: pokemon_jpg/pokemon_jpg/600.jpg  \n",
      "  inflating: pokemon_jpg/pokemon_jpg/601.jpg  \n",
      "  inflating: pokemon_jpg/pokemon_jpg/602.jpg  \n",
      "  inflating: pokemon_jpg/pokemon_jpg/603.jpg  \n",
      "  inflating: pokemon_jpg/pokemon_jpg/604.jpg  \n",
      "  inflating: pokemon_jpg/pokemon_jpg/605.jpg  \n",
      "  inflating: pokemon_jpg/pokemon_jpg/606.jpg  \n",
      "  inflating: pokemon_jpg/pokemon_jpg/607.jpg  \n",
      "  inflating: pokemon_jpg/pokemon_jpg/608.jpg  \n",
      "  inflating: pokemon_jpg/pokemon_jpg/609.jpg  \n",
      "  inflating: pokemon_jpg/pokemon_jpg/61.jpg  \n",
      "  inflating: pokemon_jpg/pokemon_jpg/610.jpg  \n",
      "  inflating: pokemon_jpg/pokemon_jpg/611.jpg  \n",
      "  inflating: pokemon_jpg/pokemon_jpg/612.jpg  \n",
      "  inflating: pokemon_jpg/pokemon_jpg/613.jpg  \n",
      "  inflating: pokemon_jpg/pokemon_jpg/614.jpg  \n",
      "  inflating: pokemon_jpg/pokemon_jpg/615.jpg  \n",
      "  inflating: pokemon_jpg/pokemon_jpg/616.jpg  \n",
      "  inflating: pokemon_jpg/pokemon_jpg/617.jpg  \n",
      "  inflating: pokemon_jpg/pokemon_jpg/618.jpg  \n",
      "  inflating: pokemon_jpg/pokemon_jpg/619.jpg  \n",
      "  inflating: pokemon_jpg/pokemon_jpg/62.jpg  \n",
      "  inflating: pokemon_jpg/pokemon_jpg/620.jpg  \n",
      "  inflating: pokemon_jpg/pokemon_jpg/621.jpg  \n",
      "  inflating: pokemon_jpg/pokemon_jpg/622.jpg  \n",
      "  inflating: pokemon_jpg/pokemon_jpg/623.jpg  \n",
      "  inflating: pokemon_jpg/pokemon_jpg/624.jpg  \n",
      "  inflating: pokemon_jpg/pokemon_jpg/625.jpg  \n",
      "  inflating: pokemon_jpg/pokemon_jpg/626.jpg  \n",
      "  inflating: pokemon_jpg/pokemon_jpg/627.jpg  \n",
      "  inflating: pokemon_jpg/pokemon_jpg/628.jpg  \n",
      "  inflating: pokemon_jpg/pokemon_jpg/629.jpg  \n",
      "  inflating: pokemon_jpg/pokemon_jpg/63.jpg  \n",
      "  inflating: pokemon_jpg/pokemon_jpg/630.jpg  \n",
      "  inflating: pokemon_jpg/pokemon_jpg/631.jpg  \n",
      "  inflating: pokemon_jpg/pokemon_jpg/632.jpg  \n",
      "  inflating: pokemon_jpg/pokemon_jpg/633.jpg  \n",
      "  inflating: pokemon_jpg/pokemon_jpg/634.jpg  \n",
      "  inflating: pokemon_jpg/pokemon_jpg/635.jpg  \n",
      "  inflating: pokemon_jpg/pokemon_jpg/636.jpg  \n",
      "  inflating: pokemon_jpg/pokemon_jpg/637.jpg  \n",
      "  inflating: pokemon_jpg/pokemon_jpg/638.jpg  \n",
      "  inflating: pokemon_jpg/pokemon_jpg/639.jpg  \n",
      "  inflating: pokemon_jpg/pokemon_jpg/64.jpg  \n",
      "  inflating: pokemon_jpg/pokemon_jpg/640.jpg  \n",
      "  inflating: pokemon_jpg/pokemon_jpg/641-incarnate.jpg  \n",
      "  inflating: pokemon_jpg/pokemon_jpg/641-therian.jpg  \n",
      "  inflating: pokemon_jpg/pokemon_jpg/642-incarnate.jpg  \n",
      "  inflating: pokemon_jpg/pokemon_jpg/642-therian.jpg  \n",
      "  inflating: pokemon_jpg/pokemon_jpg/643.jpg  \n",
      "  inflating: pokemon_jpg/pokemon_jpg/644.jpg  \n",
      "  inflating: pokemon_jpg/pokemon_jpg/645-incarnate.jpg  \n",
      "  inflating: pokemon_jpg/pokemon_jpg/645-therian.jpg  \n",
      "  inflating: pokemon_jpg/pokemon_jpg/646-black.jpg  \n",
      "  inflating: pokemon_jpg/pokemon_jpg/646-white.jpg  \n",
      "  inflating: pokemon_jpg/pokemon_jpg/646.jpg  \n",
      "  inflating: pokemon_jpg/pokemon_jpg/647-ordinary.jpg  \n",
      "  inflating: pokemon_jpg/pokemon_jpg/647-resolute.jpg  \n",
      "  inflating: pokemon_jpg/pokemon_jpg/648-pirouette.jpg  \n",
      "  inflating: pokemon_jpg/pokemon_jpg/648.jpg  \n",
      "  inflating: pokemon_jpg/pokemon_jpg/649.jpg  \n",
      "  inflating: pokemon_jpg/pokemon_jpg/65-mega.jpg  \n",
      "  inflating: pokemon_jpg/pokemon_jpg/65.jpg  \n",
      "  inflating: pokemon_jpg/pokemon_jpg/650.jpg  \n",
      "  inflating: pokemon_jpg/pokemon_jpg/651.jpg  \n",
      "  inflating: pokemon_jpg/pokemon_jpg/652.jpg  \n",
      "  inflating: pokemon_jpg/pokemon_jpg/653.jpg  \n",
      "  inflating: pokemon_jpg/pokemon_jpg/654.jpg  \n",
      "  inflating: pokemon_jpg/pokemon_jpg/655.jpg  \n",
      "  inflating: pokemon_jpg/pokemon_jpg/656.jpg  \n",
      "  inflating: pokemon_jpg/pokemon_jpg/657.jpg  \n",
      "  inflating: pokemon_jpg/pokemon_jpg/658.jpg  \n",
      "  inflating: pokemon_jpg/pokemon_jpg/659.jpg  \n",
      "  inflating: pokemon_jpg/pokemon_jpg/66.jpg  \n",
      "  inflating: pokemon_jpg/pokemon_jpg/660.jpg  \n",
      "  inflating: pokemon_jpg/pokemon_jpg/661.jpg  \n",
      "  inflating: pokemon_jpg/pokemon_jpg/662.jpg  \n",
      "  inflating: pokemon_jpg/pokemon_jpg/663.jpg  \n",
      "  inflating: pokemon_jpg/pokemon_jpg/664.jpg  \n",
      "  inflating: pokemon_jpg/pokemon_jpg/665.jpg  \n",
      "  inflating: pokemon_jpg/pokemon_jpg/666-elegant.jpg  \n",
      "  inflating: pokemon_jpg/pokemon_jpg/666.jpg  \n",
      "  inflating: pokemon_jpg/pokemon_jpg/667.jpg  \n",
      "  inflating: pokemon_jpg/pokemon_jpg/668.jpg  \n",
      "  inflating: pokemon_jpg/pokemon_jpg/668f.jpg  \n",
      "  inflating: pokemon_jpg/pokemon_jpg/669.jpg  \n",
      "  inflating: pokemon_jpg/pokemon_jpg/67.jpg  \n",
      "  inflating: pokemon_jpg/pokemon_jpg/670.jpg  \n",
      "  inflating: pokemon_jpg/pokemon_jpg/671.jpg  \n",
      "  inflating: pokemon_jpg/pokemon_jpg/672.jpg  \n",
      "  inflating: pokemon_jpg/pokemon_jpg/673.jpg  \n",
      "  inflating: pokemon_jpg/pokemon_jpg/674.jpg  \n",
      "  inflating: pokemon_jpg/pokemon_jpg/675.jpg  \n",
      "  inflating: pokemon_jpg/pokemon_jpg/676-diamond.jpg  \n",
      "  inflating: pokemon_jpg/pokemon_jpg/676-heart.jpg  \n",
      "  inflating: pokemon_jpg/pokemon_jpg/676-star.jpg  \n",
      "  inflating: pokemon_jpg/pokemon_jpg/676.jpg  \n",
      "  inflating: pokemon_jpg/pokemon_jpg/677.jpg  \n",
      "  inflating: pokemon_jpg/pokemon_jpg/678.jpg  \n",
      "  inflating: pokemon_jpg/pokemon_jpg/678f.jpg  \n",
      "  inflating: pokemon_jpg/pokemon_jpg/679.jpg  \n",
      "  inflating: pokemon_jpg/pokemon_jpg/68.jpg  \n",
      "  inflating: pokemon_jpg/pokemon_jpg/680.jpg  \n",
      "  inflating: pokemon_jpg/pokemon_jpg/681-blade.jpg  \n",
      "  inflating: pokemon_jpg/pokemon_jpg/681-shield.jpg  \n",
      "  inflating: pokemon_jpg/pokemon_jpg/681.jpg  \n",
      "  inflating: pokemon_jpg/pokemon_jpg/682.jpg  \n",
      "  inflating: pokemon_jpg/pokemon_jpg/683.jpg  \n",
      "  inflating: pokemon_jpg/pokemon_jpg/684.jpg  \n",
      "  inflating: pokemon_jpg/pokemon_jpg/685.jpg  \n",
      "  inflating: pokemon_jpg/pokemon_jpg/686.jpg  \n",
      "  inflating: pokemon_jpg/pokemon_jpg/687.jpg  \n",
      "  inflating: pokemon_jpg/pokemon_jpg/688.jpg  \n",
      "  inflating: pokemon_jpg/pokemon_jpg/689.jpg  \n",
      "  inflating: pokemon_jpg/pokemon_jpg/69.jpg  \n",
      "  inflating: pokemon_jpg/pokemon_jpg/690.jpg  \n",
      "  inflating: pokemon_jpg/pokemon_jpg/691.jpg  \n",
      "  inflating: pokemon_jpg/pokemon_jpg/692.jpg  \n",
      "  inflating: pokemon_jpg/pokemon_jpg/693.jpg  \n",
      "  inflating: pokemon_jpg/pokemon_jpg/694.jpg  \n",
      "  inflating: pokemon_jpg/pokemon_jpg/695.jpg  \n",
      "  inflating: pokemon_jpg/pokemon_jpg/696.jpg  \n",
      "  inflating: pokemon_jpg/pokemon_jpg/697.jpg  \n",
      "  inflating: pokemon_jpg/pokemon_jpg/698.jpg  \n",
      "  inflating: pokemon_jpg/pokemon_jpg/699.jpg  \n",
      "  inflating: pokemon_jpg/pokemon_jpg/7.jpg  \n",
      "  inflating: pokemon_jpg/pokemon_jpg/70.jpg  \n",
      "  inflating: pokemon_jpg/pokemon_jpg/700.jpg  \n",
      "  inflating: pokemon_jpg/pokemon_jpg/701.jpg  \n",
      "  inflating: pokemon_jpg/pokemon_jpg/702.jpg  \n",
      "  inflating: pokemon_jpg/pokemon_jpg/703.jpg  \n",
      "  inflating: pokemon_jpg/pokemon_jpg/704.jpg  \n",
      "  inflating: pokemon_jpg/pokemon_jpg/705.jpg  \n",
      "  inflating: pokemon_jpg/pokemon_jpg/706.jpg  \n",
      "  inflating: pokemon_jpg/pokemon_jpg/707.jpg  \n",
      "  inflating: pokemon_jpg/pokemon_jpg/708.jpg  \n",
      "  inflating: pokemon_jpg/pokemon_jpg/709.jpg  \n",
      "  inflating: pokemon_jpg/pokemon_jpg/71.jpg  \n",
      "  inflating: pokemon_jpg/pokemon_jpg/710.jpg  \n",
      "  inflating: pokemon_jpg/pokemon_jpg/711.jpg  \n",
      "  inflating: pokemon_jpg/pokemon_jpg/712.jpg  \n",
      "  inflating: pokemon_jpg/pokemon_jpg/713.jpg  \n",
      "  inflating: pokemon_jpg/pokemon_jpg/714.jpg  \n",
      "  inflating: pokemon_jpg/pokemon_jpg/715.jpg  \n",
      "  inflating: pokemon_jpg/pokemon_jpg/716.jpg  \n",
      "  inflating: pokemon_jpg/pokemon_jpg/717.jpg  \n",
      "  inflating: pokemon_jpg/pokemon_jpg/718.jpg  \n",
      "  inflating: pokemon_jpg/pokemon_jpg/719-mega.jpg  \n",
      "  inflating: pokemon_jpg/pokemon_jpg/719.jpg  \n",
      "  inflating: pokemon_jpg/pokemon_jpg/72.jpg  \n",
      "  inflating: pokemon_jpg/pokemon_jpg/720-unbound.jpg  \n",
      "  inflating: pokemon_jpg/pokemon_jpg/720.jpg  \n",
      "  inflating: pokemon_jpg/pokemon_jpg/721.jpg  \n",
      "  inflating: pokemon_jpg/pokemon_jpg/73.jpg  \n",
      "  inflating: pokemon_jpg/pokemon_jpg/74.jpg  \n",
      "  inflating: pokemon_jpg/pokemon_jpg/75.jpg  \n",
      "  inflating: pokemon_jpg/pokemon_jpg/76.jpg  \n",
      "  inflating: pokemon_jpg/pokemon_jpg/77.jpg  \n",
      "  inflating: pokemon_jpg/pokemon_jpg/78.jpg  \n",
      "  inflating: pokemon_jpg/pokemon_jpg/79.jpg  \n",
      "  inflating: pokemon_jpg/pokemon_jpg/8.jpg  \n",
      "  inflating: pokemon_jpg/pokemon_jpg/80-mega.jpg  \n",
      "  inflating: pokemon_jpg/pokemon_jpg/80.jpg  \n",
      "  inflating: pokemon_jpg/pokemon_jpg/81.jpg  \n",
      "  inflating: pokemon_jpg/pokemon_jpg/82.jpg  \n",
      "  inflating: pokemon_jpg/pokemon_jpg/83.jpg  \n",
      "  inflating: pokemon_jpg/pokemon_jpg/84.jpg  \n",
      "  inflating: pokemon_jpg/pokemon_jpg/85.jpg  \n",
      "  inflating: pokemon_jpg/pokemon_jpg/86.jpg  \n",
      "  inflating: pokemon_jpg/pokemon_jpg/87.jpg  \n",
      "  inflating: pokemon_jpg/pokemon_jpg/88.jpg  \n",
      "  inflating: pokemon_jpg/pokemon_jpg/89.jpg  \n",
      "  inflating: pokemon_jpg/pokemon_jpg/9-mega.jpg  \n",
      "  inflating: pokemon_jpg/pokemon_jpg/9.jpg  \n",
      "  inflating: pokemon_jpg/pokemon_jpg/90.jpg  \n",
      "  inflating: pokemon_jpg/pokemon_jpg/91.jpg  \n",
      "  inflating: pokemon_jpg/pokemon_jpg/92.jpg  \n",
      "  inflating: pokemon_jpg/pokemon_jpg/93.jpg  \n",
      "  inflating: pokemon_jpg/pokemon_jpg/94-mega.jpg  \n",
      "  inflating: pokemon_jpg/pokemon_jpg/94.jpg  \n",
      "  inflating: pokemon_jpg/pokemon_jpg/95.jpg  \n",
      "  inflating: pokemon_jpg/pokemon_jpg/96.jpg  \n",
      "  inflating: pokemon_jpg/pokemon_jpg/97.jpg  \n",
      "  inflating: pokemon_jpg/pokemon_jpg/98.jpg  \n",
      "  inflating: pokemon_jpg/pokemon_jpg/99.jpg  \n"
     ]
    }
   ],
   "source": [
    "!unzip file.zip"
   ]
  },
  {
   "cell_type": "code",
   "execution_count": null,
   "metadata": {
    "_cell_guid": "79c7e3d0-c299-4dcb-8224-4455121ee9b0",
    "_uuid": "d629ff2d2480ee46fbb7e2d37f6b5fab8052498a",
    "id": "uQecU-S8Q4VL"
   },
   "outputs": [],
   "source": [
    "IMAGE_DIR = \"pokemon_jpg/pokemon_jpg\"\n",
    "image_size = 64\n",
    "batch_size = 8\n",
    "normalization_stats = (0.5, 0.5, 0.5), (0.5, 0.5, 0.5) # Convert channels from [0, 1] to [-1, 1]"
   ]
  },
  {
   "cell_type": "code",
   "execution_count": null,
   "metadata": {
    "id": "ZiJwvR_MQ4VM"
   },
   "outputs": [],
   "source": [
    "normal_dataset = ImageFolder(IMAGE_DIR, transform=T.Compose([\n",
    "    T.Resize(image_size),\n",
    "    T.CenterCrop(image_size),\n",
    "    T.ToTensor(),\n",
    "    T.Normalize(*normalization_stats)]))\n",
    "\n",
    "# Augment the dataset with mirrored images\n",
    "mirror_dataset = ImageFolder(IMAGE_DIR, transform=T.Compose([\n",
    "    T.Resize(image_size),\n",
    "    T.CenterCrop(image_size),\n",
    "    T.RandomHorizontalFlip(p=1.0),\n",
    "    T.ToTensor(),\n",
    "    T.Normalize(*normalization_stats)]))\n",
    "\n",
    "# Augment the dataset with color changes\n",
    "color_jitter_dataset = ImageFolder(IMAGE_DIR, transform=T.Compose([\n",
    "    T.Resize(image_size),\n",
    "    T.CenterCrop(image_size),\n",
    "    T.ColorJitter(0.5, 0.5, 0.5),\n",
    "    T.ToTensor(),\n",
    "    T.Normalize(*normalization_stats)]))\n",
    "\n",
    "# Combine the datasets\n",
    "dataset_list = [normal_dataset, mirror_dataset, color_jitter_dataset]\n",
    "dataset = ConcatDataset(dataset_list)\n",
    "\n",
    "dataloader = DataLoader(dataset, batch_size, shuffle=True, num_workers=4, pin_memory=False)"
   ]
  },
  {
   "cell_type": "markdown",
   "metadata": {
    "id": "AONp3RIgQ4VM"
   },
   "source": [
    "Since these images have been normalized to [-1, 1],  we need to denormalize them in order to view them. Below is a denormalization function to do just that."
   ]
  },
  {
   "cell_type": "code",
   "execution_count": null,
   "metadata": {
    "id": "Pg17do5WQ4VN"
   },
   "outputs": [],
   "source": [
    "def denorm(image):\n",
    "    return image * normalization_stats[1][0] + normalization_stats[0][0]"
   ]
  },
  {
   "cell_type": "markdown",
   "metadata": {
    "id": "7oU49lETQ4VN"
   },
   "source": [
    "Now let's show a sample batch of real Pokemon images"
   ]
  },
  {
   "cell_type": "code",
   "execution_count": null,
   "metadata": {
    "id": "LzuWJGMqQ4VN"
   },
   "outputs": [],
   "source": [
    "import torch\n",
    "from torchvision.utils import make_grid\n",
    "import matplotlib.pyplot as plt\n",
    "%matplotlib inline"
   ]
  },
  {
   "cell_type": "code",
   "execution_count": null,
   "metadata": {
    "id": "xAsDO80lQ4VO"
   },
   "outputs": [],
   "source": [
    "def show_images(images, nmax=64):\n",
    "    fig, ax = plt.subplots(figsize=(8, 8))\n",
    "    ax.set_xticks([]); ax.set_yticks([])\n",
    "    ax.imshow(make_grid(denorm(images.detach()[:nmax]), nrow=8).permute(1, 2, 0))\n",
    "    \n",
    "def show_batch(dataloader, nmax=64):\n",
    "    for images, _ in dataloader:\n",
    "        show_images(images, nmax)\n",
    "        break"
   ]
  },
  {
   "cell_type": "code",
   "execution_count": null,
   "metadata": {
    "id": "_RXarOP-Q4VO",
    "outputId": "c664ddf0-7eb6-4545-8498-4188ef146159"
   },
   "outputs": [
    {
     "data": {
      "image/png": "[encoded data removed]",
      "text/plain": [
       "<Figure size 576x576 with 1 Axes>"
      ]
     },
     "metadata": {},
     "output_type": "display_data"
    }
   ],
   "source": [
    "show_batch(dataloader)"
   ]
  },
  {
   "cell_type": "markdown",
   "metadata": {
    "id": "CfN3omcyQ4VP"
   },
   "source": [
    "Now that we know the visualization works, we can continue with making the GAN. First, we'll start with the discriminator"
   ]
  },
  {
   "cell_type": "code",
   "execution_count": null,
   "metadata": {
    "id": "hS3gHzMVQ4VP"
   },
   "outputs": [],
   "source": [
    "import torch.nn as nn"
   ]
  },
  {
   "cell_type": "markdown",
   "metadata": {
    "id": "a-7zoyxwQ4VQ"
   },
   "source": [
    "# Discriminator"
   ]
  },
  {
   "cell_type": "code",
   "execution_count": null,
   "metadata": {
    "id": "WA-eJ7RzQ4VR"
   },
   "outputs": [],
   "source": [
    "disc = nn.Sequential(\n",
    "    # Input is 3 x 64 x 64\n",
    "    nn.Conv2d(3, 64, kernel_size=4, stride=2, padding=1, bias=False),\n",
    "    nn.BatchNorm2d(64),\n",
    "    nn.LeakyReLU(0.2, inplace=True),\n",
    "    # Layer Output: 64 x 32 x 32\n",
    "    \n",
    "    nn.Conv2d(64, 128, kernel_size=4, stride=2, padding=1, bias=False),\n",
    "    nn.BatchNorm2d(128),\n",
    "    nn.LeakyReLU(0.2, inplace=True),\n",
    "    # Layer Output: 128 x 16 x 16\n",
    "    \n",
    "    nn.Conv2d(128, 128, kernel_size=4, stride=2, padding=1, bias=False),\n",
    "    nn.BatchNorm2d(128),\n",
    "    nn.LeakyReLU(0.2, inplace=True),\n",
    "    # Layer Output: 128 x 8 x 8\n",
    "    \n",
    "    nn.Conv2d(128, 128, kernel_size=4, stride=2, padding=1, bias=False),\n",
    "    nn.BatchNorm2d(128),\n",
    "    nn.LeakyReLU(0.2, inplace=True),\n",
    "    # Layer Output: 128 x 4 x 4\n",
    "    \n",
    "    # With a 4x4, we can condense the channels into a 1 x 1 x 1 to produce output\n",
    "    nn.Conv2d(128, 1, kernel_size=4, stride=1, padding=0, bias=False),\n",
    "    nn.Flatten(),\n",
    "    nn.Sigmoid()\n",
    ")"
   ]
  },
  {
   "cell_type": "markdown",
   "metadata": {
    "id": "2oBvFb8dQ4VR"
   },
   "source": [
    "# Generator\n"
   ]
  },
  {
   "cell_type": "code",
   "execution_count": null,
   "metadata": {
    "id": "h0s3f4HpQ4VS"
   },
   "outputs": [],
   "source": [
    "seed_size = 16"
   ]
  },
  {
   "cell_type": "code",
   "execution_count": null,
   "metadata": {
    "id": "ANZIJhP3Q4VT"
   },
   "outputs": [],
   "source": [
    "gen = nn.Sequential(\n",
    "    # Input seed_size x 1 x 1\n",
    "    nn.ConvTranspose2d(seed_size, 128, kernel_size=4, padding=0, stride=1, bias=False),\n",
    "    nn.BatchNorm2d(128),\n",
    "    nn.ReLU(True),\n",
    "    # Layer output: 256 x 4 x 4\n",
    "    \n",
    "    nn.ConvTranspose2d(128, 128, kernel_size=4, padding=1, stride=2, bias=False),\n",
    "    nn.BatchNorm2d(128),\n",
    "    nn.ReLU(True),\n",
    "    # Layer output: 128 x 8 x 8\n",
    "    \n",
    "    nn.ConvTranspose2d(128, 128, kernel_size=4, padding=1, stride=2, bias=False),\n",
    "    nn.BatchNorm2d(128),\n",
    "    nn.ReLU(True),\n",
    "    # Layer output: 64 x 16 x 16\n",
    "    \n",
    "    nn.ConvTranspose2d(128, 64, kernel_size=4, padding=1, stride=2, bias=False),\n",
    "    nn.BatchNorm2d(64),\n",
    "    nn.ReLU(True),\n",
    "    # Layer output: 32 x 32 x 32\n",
    "    \n",
    "    nn.ConvTranspose2d(64, 3, kernel_size=4, padding=1, stride=2, bias=False),\n",
    "    nn.Tanh()\n",
    "    # Output: 3 x 64 x 64\n",
    ")"
   ]
  },
  {
   "cell_type": "markdown",
   "metadata": {
    "id": "RDdSPCNUQ4VT"
   },
   "source": [
    "# GPU Setup\n",
    "We should train this on a GPU, so I'll set that up right now"
   ]
  },
  {
   "cell_type": "code",
   "execution_count": null,
   "metadata": {
    "id": "TyMfZ4XtQ4VT"
   },
   "outputs": [],
   "source": [
    "def get_training_device():\n",
    "    # Use the GPU if possible\n",
    "    if torch.cuda.is_available():\n",
    "        return torch.device('cuda')\n",
    "    # Otherwise use the CPU :-(\n",
    "    return torch.device('cpu')\n",
    "\n",
    "def to_device(data, device):\n",
    "    # This moves the tensors to the device (GPU, CPU)\n",
    "    if isinstance(data, (list,tuple)):\n",
    "        return [to_device(x, device) for x in data]\n",
    "    return data.to(device, non_blocking=True)\n",
    "\n",
    "class DeviceDataLoader():\n",
    "    \"\"\"Wrap a dataloader to move data to a device\"\"\"\n",
    "    def __init__(self, dataloader, device):\n",
    "        self.dataloader = dataloader\n",
    "        self.device = device\n",
    "        \n",
    "    def __iter__(self):\n",
    "        \"\"\"Yield a batch of data after moving it to device\"\"\"\n",
    "        for b in self.dataloader: \n",
    "            yield to_device(b, self.device)\n",
    "\n",
    "    def __len__(self):\n",
    "        \"\"\"Number of batches\"\"\"\n",
    "        return len(self.dataloader)"
   ]
  },
  {
   "cell_type": "code",
   "execution_count": null,
   "metadata": {
    "id": "NcIebYAnQ4VT",
    "outputId": "1d7a9de0-0d9f-49e0-f65f-5578b7b0ad9f"
   },
   "outputs": [
    {
     "data": {
      "text/plain": [
       "device(type='cuda')"
      ]
     },
     "execution_count": 22,
     "metadata": {},
     "output_type": "execute_result"
    }
   ],
   "source": [
    "device = get_training_device()\n",
    "device"
   ]
  },
  {
   "cell_type": "markdown",
   "metadata": {
    "id": "uFeh7PPWQ4VU"
   },
   "source": [
    "If the above output doesn't say something about 'cuda', then make sure the notebook is set up to run on the GPU accelerator.  \n",
    "\n",
    "Now, we use the device dataloader class to send data to our chosen device:"
   ]
  },
  {
   "cell_type": "code",
   "execution_count": null,
   "metadata": {
    "id": "YfCBVC77Q4VU"
   },
   "outputs": [],
   "source": [
    "# Using the dataloader from the top of the notebook, and the selected device\n",
    "# create a device data loader\n",
    "dev_dataloader = DeviceDataLoader(dataloader, device)"
   ]
  },
  {
   "cell_type": "markdown",
   "metadata": {
    "id": "fscLgvNHQ4VU"
   },
   "source": [
    "# **Training Functions**"
   ]
  },
  {
   "cell_type": "markdown",
   "metadata": {
    "id": "TjDOzeepQ4VU"
   },
   "source": [
    "## Discriminator"
   ]
  },
  {
   "cell_type": "code",
   "execution_count": null,
   "metadata": {
    "id": "-wn5REfWQ4VU"
   },
   "outputs": [],
   "source": [
    "def train_discriminator(real_pokemon, disc_optimizer):\n",
    "    # Reset the gradients for the optimizer\n",
    "    disc_optimizer.zero_grad()\n",
    "    \n",
    "    # Train on the real images\n",
    "    real_predictions = discriminator(real_pokemon)\n",
    "    # real_targets = torch.zeros(real_pokemon.size(0), 1, device=device) # All of these are real, so the target is 0.\n",
    "    real_targets = torch.rand(real_pokemon.size(0), 1, device=device) * (0.1 - 0) + 0 # Add some noisy labels to make the discriminator think harder.\n",
    "    real_loss = F.binary_cross_entropy(real_predictions, real_targets) # Can do binary loss function because it is a binary classifier\n",
    "    real_score = torch.mean(real_predictions).item() # How well does the discriminator classify the real pokemon? (Higher score is better for the discriminator)\n",
    "    \n",
    "    # Make some latent tensors to seed the generator\n",
    "    latent_batch = torch.randn(batch_size, seed_size, 1, 1, device=device)\n",
    "    \n",
    "    # Get some fake pokemon\n",
    "    fake_pokemon = generator(latent_batch)\n",
    "    \n",
    "    # Train on the generator's current efforts to trick the discriminator\n",
    "    gen_predictions = discriminator(fake_pokemon)\n",
    "    # gen_targets = torch.ones(fake_pokemon.size(0), 1, device=device)\n",
    "    gen_targets = torch.rand(fake_pokemon.size(0), 1, device=device) * (1 - 0.9) + 0.9 # Add some noisy labels to make the discriminator think harder.\n",
    "    gen_loss = F.binary_cross_entropy(gen_predictions, gen_targets)\n",
    "    gen_score = torch.mean(gen_predictions).item() # How well did the discriminator classify the fake pokemon? (Lower score is better for the discriminator)\n",
    "    \n",
    "    # Update the discriminator weights\n",
    "    total_loss = real_loss + gen_loss\n",
    "    total_loss.backward()\n",
    "    disc_optimizer.step()\n",
    "    return total_loss.item(), real_score, gen_score"
   ]
  },
  {
   "cell_type": "markdown",
   "metadata": {
    "id": "bLhL4qNCQ4VU"
   },
   "source": [
    "## Generator"
   ]
  },
  {
   "cell_type": "code",
   "execution_count": null,
   "metadata": {
    "id": "KJXTtxAOQ4VU"
   },
   "outputs": [],
   "source": [
    "def train_generator(gen_optimizer):\n",
    "    # Clear the generator gradients\n",
    "    gen_optimizer.zero_grad()\n",
    "    \n",
    "    # Generate some fake pokemon\n",
    "    latent_batch = torch.randn(batch_size, seed_size, 1, 1, device=device)\n",
    "    fake_pokemon = generator(latent_batch)\n",
    "    \n",
    "    # Test against the discriminator\n",
    "    disc_predictions = discriminator(fake_pokemon)\n",
    "    targets = torch.zeros(fake_pokemon.size(0), 1, device=device) # We want the discriminator to think these images are real.\n",
    "    loss = F.binary_cross_entropy(disc_predictions, targets) # How well did the generator do? (How much did the discriminator believe the generator?)\n",
    "    \n",
    "    # Update the generator based on how well it fooled the discriminator\n",
    "    loss.backward()\n",
    "    gen_optimizer.step()\n",
    "    \n",
    "    # Return generator loss\n",
    "    return loss.item()"
   ]
  },
  {
   "cell_type": "markdown",
   "metadata": {
    "id": "EGCUZwz2Q4VV"
   },
   "source": [
    "## Results Viewer\n",
    "We want to be able to see the results as we generate pokemon"
   ]
  },
  {
   "cell_type": "code",
   "execution_count": null,
   "metadata": {
    "id": "K36XgXFVQ4VV"
   },
   "outputs": [],
   "source": [
    "import os\n",
    "from torchvision.utils import save_image\n",
    "\n",
    "RESULTS_DIR = 'results'\n",
    "os.makedirs(RESULTS_DIR, exist_ok=True)"
   ]
  },
  {
   "cell_type": "code",
   "execution_count": null,
   "metadata": {
    "id": "JEh6B1h8Q4VV"
   },
   "outputs": [],
   "source": [
    "def save_results(index, latent_batch, show=True):\n",
    "    # Generate fake pokemon\n",
    "    fake_pokemon = generator(latent_batch)\n",
    "    \n",
    "    # Make the filename for the output\n",
    "    fake_file = \"result-image-{0:0=4d}.png\".format(index)\n",
    "    \n",
    "    # Save the image\n",
    "    save_image(denorm(fake_pokemon), os.path.join(RESULTS_DIR, fake_file), nrow=8)\n",
    "    print(\"Result Saved!\")\n",
    "    \n",
    "    if show:\n",
    "        fig, ax = plt.subplots(figsize=(8, 8))\n",
    "        ax.set_xticks([]); ax.set_yticks([])\n",
    "        ax.imshow(make_grid(fake_pokemon.cpu().detach(), nrow=8).permute(1, 2, 0))"
   ]
  },
  {
   "cell_type": "markdown",
   "metadata": {
    "id": "UcWYTsxMQ4VV"
   },
   "source": [
    "# **Full Training**"
   ]
  },
  {
   "cell_type": "code",
   "execution_count": null,
   "metadata": {
    "id": "T1ewM1McQ4VV"
   },
   "outputs": [],
   "source": [
    "from tqdm.notebook import tqdm\n",
    "import torch.nn.functional as F\n",
    "\n",
    "# Static generation seed batch\n",
    "fixed_latent_batch = torch.randn(64, seed_size, 1, 1, device=device)\n",
    "\n",
    "def train(epochs, learning_rate, start_idx=1):\n",
    "    # Empty the GPU cache to save some memory\n",
    "    torch.cuda.empty_cache()\n",
    "    \n",
    "    # Track losses and scores\n",
    "    disc_losses = []\n",
    "    disc_scores = []\n",
    "    gen_losses = []\n",
    "    gen_scores = []\n",
    "    \n",
    "    # Create the optimizers\n",
    "    disc_optimizer = torch.optim.Adam(discriminator.parameters(), lr=learning_rate, betas=(0.5, 0.9))\n",
    "    gen_optimizer = torch.optim.Adam(generator.parameters(), lr=learning_rate, betas=(0.5, 0.9))\n",
    "    \n",
    "    # Run the loop\n",
    "    for epoch in range(epochs):\n",
    "        # Go through each image\n",
    "        for real_img, _ in tqdm(dev_dataloader):\n",
    "            # Train the discriminator\n",
    "            disc_loss, real_score, gen_score = train_discriminator(real_img, disc_optimizer)\n",
    "\n",
    "            # Train the generator\n",
    "            gen_loss = train_generator(gen_optimizer)\n",
    "        \n",
    "        # Collect results\n",
    "        disc_losses.append(disc_loss)\n",
    "        disc_scores.append(real_score)\n",
    "        gen_losses.append(gen_loss)\n",
    "        gen_scores.append(gen_score)\n",
    "        \n",
    "        # Print the losses and scores\n",
    "        print(\"Epoch [{}/{}], gen_loss: {:.4f}, disc_loss: {:.4f}, real_score: {:.4f}, gen_score: {:.4f}\".format(\n",
    "            epoch+start_idx, epochs, gen_loss, disc_loss, real_score, gen_score))\n",
    "        \n",
    "        # Save the images and show the progress\n",
    "        save_results(epoch + start_idx, fixed_latent_batch, show=False)\n",
    "    \n",
    "    # Return stats\n",
    "    return disc_losses, disc_scores, gen_losses, gen_scores"
   ]
  },
  {
   "cell_type": "code",
   "execution_count": null,
   "metadata": {
    "id": "TmM4PQ0wQ4VW"
   },
   "outputs": [],
   "source": [
    "\n",
    "discriminator = disc\n",
    "generator = gen\n",
    "# Send to device\n",
    "generator = to_device(generator, device)\n",
    "discriminator = to_device(discriminator, device)"
   ]
  },
  {
   "cell_type": "markdown",
   "metadata": {
    "id": "8RXicpHHQ4VW"
   },
   "source": [
    "# Training Time\n"
   ]
  },
  {
   "cell_type": "code",
   "execution_count": null,
   "metadata": {
    "id": "rAbpzz--Q4VW"
   },
   "outputs": [],
   "source": [
    "# learning_rate = 0.0025 # worked fairly well for disc/gen_64_1\n",
    "learning_rate = 0.00275\n",
    "epochs = 50"
   ]
  },
  {
   "cell_type": "code",
   "execution_count": null,
   "metadata": {
    "colab": {
     "referenced_widgets": [
      "5d27b9618ff44d7da12238a177115aa6",
      "0e437304ec0e49aa89f0adb2e3cf0bb9",
      "ee9d320de1d44f35a9961994cd6de5f5",
      "b71323d2343348fcb2645ffbbb1eeecc",
      "140d36f2819a41d9ac86292ad2c356a5",
      "9fc32bdb197b410e825eace88c5f2f28",
      "2022d79e71594495affceb54efdd699c",
      "37358ece98f74782ba14894cb6b6df10",
      "5416e87498c7438bac6e7ea50f8cc3f2",
      "1ea970ff3d534394975a81ddcde213c3",
      "c05facbe83184cb199168adb6f036067",
      "f1ee4065cab04fff999b4ff961acb8ab",
      "67d7b79815e54d0ebebaa4f0f7b2ae3a",
      "578829b82df644349300a0a08a3361e2",
      "5cf5861eab214804a06b96729a7a9252",
      "ef09ef20ffa64cacba3f40364478769f",
      "fcf90a326a544f06b956439431336605",
      "fe00ec1062e44804ac93c8a8a55169a2",
      "0802e7629b294859b5232d02f8b93f59",
      "def84ab8d1c64e5c8ae42c61c9f5366a",
      "aede9d6522894471b1a3a9beecc25a14",
      "b35be1d025b7465fbfc27336e21083ea",
      "4886245039bb4000ae17eb08db905324",
      "b6f723478e03440287e347c436a9aeab",
      "c591ff1ac13a4a6aac00c172fbda82d6",
      "aabd479856d549fc8b82e8f03cd1deb0",
      "f3285bcd01664c04992d55138f7e8e5a",
      "112abfe75edf404980d6fc855afad7a1",
      "b141370545824f4488cc86361b59f201",
      "6aa85761d09e474fbedcb33849dab1b2",
      "afc58794368d409f8b4d76573112f125",
      "0794ee3a4834499ebd715b1e4376310d",
      "e55ac684f43c4639ac7f17f49da2b697",
      "157d8990396744d78cd4262b71288198",
      "a6afc325ed8a4847974497a59e1380ee",
      "3f359e9ff2c84748b89a43cc94d35fac",
      "bcd620069a2f4dc7892856e355e3a67b",
      "aa64639101304987a182e6ef263f88be",
      "25088f1948c645c78bb333dd21ffa856",
      "d156bbb7cff041ff812bf2ed867b4bbd",
      "47852c8e0db844a996abdb6b8e1b1a17",
      "fd1aa045b40f406a86c8bc804ba3ef24",
      "8d11dc438ab04c35bb579dbaa8a539f5",
      "73f75fa068e84a3e85bb8dc22242476c",
      "e0bb3e0b41d84d629ff929cf899e1390",
      "7a4c3ad914974c598649cd54d13e99c1",
      "39632dbfc4cb4891bb145f6f25671112",
      "d36c994a16624eb99d16b63f5036d3e4",
      "f1b5957e3b73431aaeb1ce58f5997799",
      "52d2e8e04a574fcf891a2d0a2d688add"
     ]
    },
    "id": "5xBO32qWQ4VW",
    "outputId": "e8899644-9a7e-4006-f35b-a48b912ea886"
   },
   "outputs": [
    {
     "data": {
      "application/vnd.jupyter.widget-view+json": {
       "model_id": "5d27b9618ff44d7da12238a177115aa6",
       "version_major": 2,
       "version_minor": 0
      },
      "text/plain": [
       "HBox(children=(FloatProgress(value=0.0, max=615.0), HTML(value='')))"
      ]
     },
     "metadata": {},
     "output_type": "display_data"
    },
    {
     "name": "stdout",
     "output_type": "stream",
     "text": [
      "\n",
      "Epoch [1/50], gen_loss: 0.2398, disc_loss: 1.7215, real_score: 0.7439, gen_score: 0.7298\n",
      "Result Saved!\n"
     ]
    },
    {
     "data": {
      "application/vnd.jupyter.widget-view+json": {
       "model_id": "0e437304ec0e49aa89f0adb2e3cf0bb9",
       "version_major": 2,
       "version_minor": 0
      },
      "text/plain": [
       "HBox(children=(FloatProgress(value=0.0, max=615.0), HTML(value='')))"
      ]
     },
     "metadata": {},
     "output_type": "display_data"
    },
    {
     "name": "stdout",
     "output_type": "stream",
     "text": [
      "\n",
      "Epoch [2/50], gen_loss: 0.6742, disc_loss: 1.1346, real_score: 0.4877, gen_score: 0.6836\n",
      "Result Saved!\n"
     ]
    },
    {
     "data": {
      "application/vnd.jupyter.widget-view+json": {
       "model_id": "ee9d320de1d44f35a9961994cd6de5f5",
       "version_major": 2,
       "version_minor": 0
      },
      "text/plain": [
       "HBox(children=(FloatProgress(value=0.0, max=615.0), HTML(value='')))"
      ]
     },
     "metadata": {},
     "output_type": "display_data"
    },
    {
     "name": "stdout",
     "output_type": "stream",
     "text": [
      "\n",
      "Epoch [3/50], gen_loss: 3.4980, disc_loss: 0.8344, real_score: 0.1187, gen_score: 0.6132\n",
      "Result Saved!\n"
     ]
    },
    {
     "data": {
      "application/vnd.jupyter.widget-view+json": {
       "model_id": "b71323d2343348fcb2645ffbbb1eeecc",
       "version_major": 2,
       "version_minor": 0
      },
      "text/plain": [
       "HBox(children=(FloatProgress(value=0.0, max=615.0), HTML(value='')))"
      ]
     },
     "metadata": {},
     "output_type": "display_data"
    },
    {
     "name": "stdout",
     "output_type": "stream",
     "text": [
      "\n",
      "Epoch [4/50], gen_loss: 1.0436, disc_loss: 1.6191, real_score: 0.6809, gen_score: 0.6668\n",
      "Result Saved!\n"
     ]
    },
    {
     "data": {
      "application/vnd.jupyter.widget-view+json": {
       "model_id": "140d36f2819a41d9ac86292ad2c356a5",
       "version_major": 2,
       "version_minor": 0
      },
      "text/plain": [
       "HBox(children=(FloatProgress(value=0.0, max=615.0), HTML(value='')))"
      ]
     },
     "metadata": {},
     "output_type": "display_data"
    },
    {
     "name": "stdout",
     "output_type": "stream",
     "text": [
      "\n",
      "Epoch [5/50], gen_loss: 2.2868, disc_loss: 0.5778, real_score: 0.2490, gen_score: 0.8381\n",
      "Result Saved!\n"
     ]
    },
    {
     "data": {
      "application/vnd.jupyter.widget-view+json": {
       "model_id": "9fc32bdb197b410e825eace88c5f2f28",
       "version_major": 2,
       "version_minor": 0
      },
      "text/plain": [
       "HBox(children=(FloatProgress(value=0.0, max=615.0), HTML(value='')))"
      ]
     },
     "metadata": {},
     "output_type": "display_data"
    },
    {
     "name": "stdout",
     "output_type": "stream",
     "text": [
      "\n",
      "Epoch [6/50], gen_loss: 5.0414, disc_loss: 0.7958, real_score: 0.0075, gen_score: 0.7052\n",
      "Result Saved!\n"
     ]
    },
    {
     "data": {
      "application/vnd.jupyter.widget-view+json": {
       "model_id": "2022d79e71594495affceb54efdd699c",
       "version_major": 2,
       "version_minor": 0
      },
      "text/plain": [
       "HBox(children=(FloatProgress(value=0.0, max=615.0), HTML(value='')))"
      ]
     },
     "metadata": {},
     "output_type": "display_data"
    },
    {
     "name": "stdout",
     "output_type": "stream",
     "text": [
      "\n",
      "Epoch [7/50], gen_loss: 0.3920, disc_loss: 2.0794, real_score: 0.8046, gen_score: 0.8423\n",
      "Result Saved!\n"
     ]
    },
    {
     "data": {
      "application/vnd.jupyter.widget-view+json": {
       "model_id": "37358ece98f74782ba14894cb6b6df10",
       "version_major": 2,
       "version_minor": 0
      },
      "text/plain": [
       "HBox(children=(FloatProgress(value=0.0, max=615.0), HTML(value='')))"
      ]
     },
     "metadata": {},
     "output_type": "display_data"
    },
    {
     "name": "stdout",
     "output_type": "stream",
     "text": [
      "\n",
      "Epoch [8/50], gen_loss: 0.2931, disc_loss: 2.5263, real_score: 0.8567, gen_score: 0.5983\n",
      "Result Saved!\n"
     ]
    },
    {
     "data": {
      "application/vnd.jupyter.widget-view+json": {
       "model_id": "5416e87498c7438bac6e7ea50f8cc3f2",
       "version_major": 2,
       "version_minor": 0
      },
      "text/plain": [
       "HBox(children=(FloatProgress(value=0.0, max=615.0), HTML(value='')))"
      ]
     },
     "metadata": {},
     "output_type": "display_data"
    },
    {
     "name": "stdout",
     "output_type": "stream",
     "text": [
      "\n",
      "Epoch [9/50], gen_loss: 1.7842, disc_loss: 1.2244, real_score: 0.5811, gen_score: 0.9873\n",
      "Result Saved!\n"
     ]
    },
    {
     "data": {
      "application/vnd.jupyter.widget-view+json": {
       "model_id": "1ea970ff3d534394975a81ddcde213c3",
       "version_major": 2,
       "version_minor": 0
      },
      "text/plain": [
       "HBox(children=(FloatProgress(value=0.0, max=615.0), HTML(value='')))"
      ]
     },
     "metadata": {},
     "output_type": "display_data"
    },
    {
     "name": "stdout",
     "output_type": "stream",
     "text": [
      "\n",
      "Epoch [10/50], gen_loss: 1.9701, disc_loss: 0.4683, real_score: 0.0476, gen_score: 0.7683\n",
      "Result Saved!\n"
     ]
    },
    {
     "data": {
      "application/vnd.jupyter.widget-view+json": {
       "model_id": "c05facbe83184cb199168adb6f036067",
       "version_major": 2,
       "version_minor": 0
      },
      "text/plain": [
       "HBox(children=(FloatProgress(value=0.0, max=615.0), HTML(value='')))"
      ]
     },
     "metadata": {},
     "output_type": "display_data"
    },
    {
     "name": "stdout",
     "output_type": "stream",
     "text": [
      "\n",
      "Epoch [11/50], gen_loss: 2.4222, disc_loss: 0.7811, real_score: 0.3284, gen_score: 0.7888\n",
      "Result Saved!\n"
     ]
    },
    {
     "data": {
      "application/vnd.jupyter.widget-view+json": {
       "model_id": "f1ee4065cab04fff999b4ff961acb8ab",
       "version_major": 2,
       "version_minor": 0
      },
      "text/plain": [
       "HBox(children=(FloatProgress(value=0.0, max=615.0), HTML(value='')))"
      ]
     },
     "metadata": {},
     "output_type": "display_data"
    },
    {
     "name": "stdout",
     "output_type": "stream",
     "text": [
      "\n",
      "Epoch [12/50], gen_loss: 2.4316, disc_loss: 0.5225, real_score: 0.1553, gen_score: 0.9295\n",
      "Result Saved!\n"
     ]
    },
    {
     "data": {
      "application/vnd.jupyter.widget-view+json": {
       "model_id": "67d7b79815e54d0ebebaa4f0f7b2ae3a",
       "version_major": 2,
       "version_minor": 0
      },
      "text/plain": [
       "HBox(children=(FloatProgress(value=0.0, max=615.0), HTML(value='')))"
      ]
     },
     "metadata": {},
     "output_type": "display_data"
    },
    {
     "name": "stdout",
     "output_type": "stream",
     "text": [
      "\n",
      "Epoch [13/50], gen_loss: 4.6693, disc_loss: 0.5682, real_score: 0.1311, gen_score: 0.9886\n",
      "Result Saved!\n"
     ]
    },
    {
     "data": {
      "application/vnd.jupyter.widget-view+json": {
       "model_id": "578829b82df644349300a0a08a3361e2",
       "version_major": 2,
       "version_minor": 0
      },
      "text/plain": [
       "HBox(children=(FloatProgress(value=0.0, max=615.0), HTML(value='')))"
      ]
     },
     "metadata": {},
     "output_type": "display_data"
    },
    {
     "name": "stdout",
     "output_type": "stream",
     "text": [
      "\n",
      "Epoch [14/50], gen_loss: 2.5424, disc_loss: 2.1395, real_score: 0.8189, gen_score: 0.9277\n",
      "Result Saved!\n"
     ]
    },
    {
     "data": {
      "application/vnd.jupyter.widget-view+json": {
       "model_id": "5cf5861eab214804a06b96729a7a9252",
       "version_major": 2,
       "version_minor": 0
      },
      "text/plain": [
       "HBox(children=(FloatProgress(value=0.0, max=615.0), HTML(value='')))"
      ]
     },
     "metadata": {},
     "output_type": "display_data"
    },
    {
     "name": "stdout",
     "output_type": "stream",
     "text": [
      "\n",
      "Epoch [15/50], gen_loss: 2.6475, disc_loss: 0.8460, real_score: 0.4511, gen_score: 0.9197\n",
      "Result Saved!\n"
     ]
    },
    {
     "data": {
      "application/vnd.jupyter.widget-view+json": {
       "model_id": "ef09ef20ffa64cacba3f40364478769f",
       "version_major": 2,
       "version_minor": 0
      },
      "text/plain": [
       "HBox(children=(FloatProgress(value=0.0, max=615.0), HTML(value='')))"
      ]
     },
     "metadata": {},
     "output_type": "display_data"
    },
    {
     "name": "stdout",
     "output_type": "stream",
     "text": [
      "\n",
      "Epoch [16/50], gen_loss: 3.2137, disc_loss: 0.4937, real_score: 0.1032, gen_score: 0.9067\n",
      "Result Saved!\n"
     ]
    },
    {
     "data": {
      "application/vnd.jupyter.widget-view+json": {
       "model_id": "fcf90a326a544f06b956439431336605",
       "version_major": 2,
       "version_minor": 0
      },
      "text/plain": [
       "HBox(children=(FloatProgress(value=0.0, max=615.0), HTML(value='')))"
      ]
     },
     "metadata": {},
     "output_type": "display_data"
    },
    {
     "name": "stdout",
     "output_type": "stream",
     "text": [
      "\n",
      "Epoch [17/50], gen_loss: 3.1004, disc_loss: 0.4724, real_score: 0.1086, gen_score: 0.8672\n",
      "Result Saved!\n"
     ]
    },
    {
     "data": {
      "application/vnd.jupyter.widget-view+json": {
       "model_id": "fe00ec1062e44804ac93c8a8a55169a2",
       "version_major": 2,
       "version_minor": 0
      },
      "text/plain": [
       "HBox(children=(FloatProgress(value=0.0, max=615.0), HTML(value='')))"
      ]
     },
     "metadata": {},
     "output_type": "display_data"
    },
    {
     "name": "stdout",
     "output_type": "stream",
     "text": [
      "\n",
      "Epoch [18/50], gen_loss: 3.4298, disc_loss: 0.7802, real_score: 0.1029, gen_score: 0.7004\n",
      "Result Saved!\n"
     ]
    },
    {
     "data": {
      "application/vnd.jupyter.widget-view+json": {
       "model_id": "0802e7629b294859b5232d02f8b93f59",
       "version_major": 2,
       "version_minor": 0
      },
      "text/plain": [
       "HBox(children=(FloatProgress(value=0.0, max=615.0), HTML(value='')))"
      ]
     },
     "metadata": {},
     "output_type": "display_data"
    },
    {
     "name": "stdout",
     "output_type": "stream",
     "text": [
      "\n",
      "Epoch [19/50], gen_loss: 1.6978, disc_loss: 0.4254, real_score: 0.1441, gen_score: 0.9658\n",
      "Result Saved!\n"
     ]
    },
    {
     "data": {
      "application/vnd.jupyter.widget-view+json": {
       "model_id": "def84ab8d1c64e5c8ae42c61c9f5366a",
       "version_major": 2,
       "version_minor": 0
      },
      "text/plain": [
       "HBox(children=(FloatProgress(value=0.0, max=615.0), HTML(value='')))"
      ]
     },
     "metadata": {},
     "output_type": "display_data"
    },
    {
     "name": "stdout",
     "output_type": "stream",
     "text": [
      "\n",
      "Epoch [20/50], gen_loss: 1.7671, disc_loss: 1.2401, real_score: 0.6304, gen_score: 0.9646\n",
      "Result Saved!\n"
     ]
    },
    {
     "data": {
      "application/vnd.jupyter.widget-view+json": {
       "model_id": "aede9d6522894471b1a3a9beecc25a14",
       "version_major": 2,
       "version_minor": 0
      },
      "text/plain": [
       "HBox(children=(FloatProgress(value=0.0, max=615.0), HTML(value='')))"
      ]
     },
     "metadata": {},
     "output_type": "display_data"
    },
    {
     "name": "stdout",
     "output_type": "stream",
     "text": [
      "\n",
      "Epoch [21/50], gen_loss: 1.5028, disc_loss: 0.8340, real_score: 0.2029, gen_score: 0.6777\n",
      "Result Saved!\n"
     ]
    },
    {
     "data": {
      "application/vnd.jupyter.widget-view+json": {
       "model_id": "b35be1d025b7465fbfc27336e21083ea",
       "version_major": 2,
       "version_minor": 0
      },
      "text/plain": [
       "HBox(children=(FloatProgress(value=0.0, max=615.0), HTML(value='')))"
      ]
     },
     "metadata": {},
     "output_type": "display_data"
    },
    {
     "name": "stdout",
     "output_type": "stream",
     "text": [
      "\n",
      "Epoch [22/50], gen_loss: 2.4205, disc_loss: 0.6968, real_score: 0.2475, gen_score: 0.7651\n",
      "Result Saved!\n"
     ]
    },
    {
     "data": {
      "application/vnd.jupyter.widget-view+json": {
       "model_id": "4886245039bb4000ae17eb08db905324",
       "version_major": 2,
       "version_minor": 0
      },
      "text/plain": [
       "HBox(children=(FloatProgress(value=0.0, max=615.0), HTML(value='')))"
      ]
     },
     "metadata": {},
     "output_type": "display_data"
    },
    {
     "name": "stdout",
     "output_type": "stream",
     "text": [
      "\n",
      "Epoch [23/50], gen_loss: 3.2268, disc_loss: 0.8668, real_score: 0.3190, gen_score: 0.7069\n",
      "Result Saved!\n"
     ]
    },
    {
     "data": {
      "application/vnd.jupyter.widget-view+json": {
       "model_id": "b6f723478e03440287e347c436a9aeab",
       "version_major": 2,
       "version_minor": 0
      },
      "text/plain": [
       "HBox(children=(FloatProgress(value=0.0, max=615.0), HTML(value='')))"
      ]
     },
     "metadata": {},
     "output_type": "display_data"
    },
    {
     "name": "stdout",
     "output_type": "stream",
     "text": [
      "\n",
      "Epoch [24/50], gen_loss: 1.1624, disc_loss: 1.3267, real_score: 0.6057, gen_score: 0.9698\n",
      "Result Saved!\n"
     ]
    },
    {
     "data": {
      "application/vnd.jupyter.widget-view+json": {
       "model_id": "c591ff1ac13a4a6aac00c172fbda82d6",
       "version_major": 2,
       "version_minor": 0
      },
      "text/plain": [
       "HBox(children=(FloatProgress(value=0.0, max=615.0), HTML(value='')))"
      ]
     },
     "metadata": {},
     "output_type": "display_data"
    },
    {
     "name": "stdout",
     "output_type": "stream",
     "text": [
      "\n",
      "Epoch [25/50], gen_loss: 2.3487, disc_loss: 0.7943, real_score: 0.4086, gen_score: 0.8585\n",
      "Result Saved!\n"
     ]
    },
    {
     "data": {
      "application/vnd.jupyter.widget-view+json": {
       "model_id": "aabd479856d549fc8b82e8f03cd1deb0",
       "version_major": 2,
       "version_minor": 0
      },
      "text/plain": [
       "HBox(children=(FloatProgress(value=0.0, max=615.0), HTML(value='')))"
      ]
     },
     "metadata": {},
     "output_type": "display_data"
    },
    {
     "name": "stdout",
     "output_type": "stream",
     "text": [
      "\n",
      "Epoch [26/50], gen_loss: 2.3918, disc_loss: 0.9986, real_score: 0.5652, gen_score: 0.9714\n",
      "Result Saved!\n"
     ]
    },
    {
     "data": {
      "application/vnd.jupyter.widget-view+json": {
       "model_id": "f3285bcd01664c04992d55138f7e8e5a",
       "version_major": 2,
       "version_minor": 0
      },
      "text/plain": [
       "HBox(children=(FloatProgress(value=0.0, max=615.0), HTML(value='')))"
      ]
     },
     "metadata": {},
     "output_type": "display_data"
    },
    {
     "name": "stdout",
     "output_type": "stream",
     "text": [
      "\n",
      "Epoch [27/50], gen_loss: 1.5813, disc_loss: 1.1831, real_score: 0.5392, gen_score: 0.8698\n",
      "Result Saved!\n"
     ]
    },
    {
     "data": {
      "application/vnd.jupyter.widget-view+json": {
       "model_id": "112abfe75edf404980d6fc855afad7a1",
       "version_major": 2,
       "version_minor": 0
      },
      "text/plain": [
       "HBox(children=(FloatProgress(value=0.0, max=615.0), HTML(value='')))"
      ]
     },
     "metadata": {},
     "output_type": "display_data"
    },
    {
     "name": "stdout",
     "output_type": "stream",
     "text": [
      "\n",
      "Epoch [28/50], gen_loss: 3.4719, disc_loss: 1.2785, real_score: 0.1458, gen_score: 0.4051\n",
      "Result Saved!\n"
     ]
    },
    {
     "data": {
      "application/vnd.jupyter.widget-view+json": {
       "model_id": "b141370545824f4488cc86361b59f201",
       "version_major": 2,
       "version_minor": 0
      },
      "text/plain": [
       "HBox(children=(FloatProgress(value=0.0, max=615.0), HTML(value='')))"
      ]
     },
     "metadata": {},
     "output_type": "display_data"
    },
    {
     "name": "stdout",
     "output_type": "stream",
     "text": [
      "\n",
      "Epoch [29/50], gen_loss: 3.0101, disc_loss: 0.4846, real_score: 0.0969, gen_score: 0.9424\n",
      "Result Saved!\n"
     ]
    },
    {
     "data": {
      "application/vnd.jupyter.widget-view+json": {
       "model_id": "6aa85761d09e474fbedcb33849dab1b2",
       "version_major": 2,
       "version_minor": 0
      },
      "text/plain": [
       "HBox(children=(FloatProgress(value=0.0, max=615.0), HTML(value='')))"
      ]
     },
     "metadata": {},
     "output_type": "display_data"
    },
    {
     "name": "stdout",
     "output_type": "stream",
     "text": [
      "\n",
      "Epoch [30/50], gen_loss: 2.8807, disc_loss: 0.6705, real_score: 0.1760, gen_score: 0.9642\n",
      "Result Saved!\n"
     ]
    },
    {
     "data": {
      "application/vnd.jupyter.widget-view+json": {
       "model_id": "afc58794368d409f8b4d76573112f125",
       "version_major": 2,
       "version_minor": 0
      },
      "text/plain": [
       "HBox(children=(FloatProgress(value=0.0, max=615.0), HTML(value='')))"
      ]
     },
     "metadata": {},
     "output_type": "display_data"
    },
    {
     "name": "stdout",
     "output_type": "stream",
     "text": [
      "\n",
      "Epoch [31/50], gen_loss: 3.4547, disc_loss: 0.4809, real_score: 0.0842, gen_score: 0.9197\n",
      "Result Saved!\n"
     ]
    },
    {
     "data": {
      "application/vnd.jupyter.widget-view+json": {
       "model_id": "0794ee3a4834499ebd715b1e4376310d",
       "version_major": 2,
       "version_minor": 0
      },
      "text/plain": [
       "HBox(children=(FloatProgress(value=0.0, max=615.0), HTML(value='')))"
      ]
     },
     "metadata": {},
     "output_type": "display_data"
    },
    {
     "name": "stdout",
     "output_type": "stream",
     "text": [
      "\n",
      "Epoch [32/50], gen_loss: 3.6436, disc_loss: 0.5294, real_score: 0.0328, gen_score: 0.8755\n",
      "Result Saved!\n"
     ]
    },
    {
     "data": {
      "application/vnd.jupyter.widget-view+json": {
       "model_id": "e55ac684f43c4639ac7f17f49da2b697",
       "version_major": 2,
       "version_minor": 0
      },
      "text/plain": [
       "HBox(children=(FloatProgress(value=0.0, max=615.0), HTML(value='')))"
      ]
     },
     "metadata": {},
     "output_type": "display_data"
    },
    {
     "name": "stdout",
     "output_type": "stream",
     "text": [
      "\n",
      "Epoch [33/50], gen_loss: 3.1411, disc_loss: 0.7386, real_score: 0.0030, gen_score: 0.6956\n",
      "Result Saved!\n"
     ]
    },
    {
     "data": {
      "application/vnd.jupyter.widget-view+json": {
       "model_id": "157d8990396744d78cd4262b71288198",
       "version_major": 2,
       "version_minor": 0
      },
      "text/plain": [
       "HBox(children=(FloatProgress(value=0.0, max=615.0), HTML(value='')))"
      ]
     },
     "metadata": {},
     "output_type": "display_data"
    },
    {
     "name": "stdout",
     "output_type": "stream",
     "text": [
      "\n",
      "Epoch [34/50], gen_loss: 2.8499, disc_loss: 0.3824, real_score: 0.0541, gen_score: 0.9217\n",
      "Result Saved!\n"
     ]
    },
    {
     "data": {
      "application/vnd.jupyter.widget-view+json": {
       "model_id": "a6afc325ed8a4847974497a59e1380ee",
       "version_major": 2,
       "version_minor": 0
      },
      "text/plain": [
       "HBox(children=(FloatProgress(value=0.0, max=615.0), HTML(value='')))"
      ]
     },
     "metadata": {},
     "output_type": "display_data"
    },
    {
     "name": "stdout",
     "output_type": "stream",
     "text": [
      "\n",
      "Epoch [35/50], gen_loss: 5.2738, disc_loss: 0.4979, real_score: 0.0045, gen_score: 0.9066\n",
      "Result Saved!\n"
     ]
    },
    {
     "data": {
      "application/vnd.jupyter.widget-view+json": {
       "model_id": "3f359e9ff2c84748b89a43cc94d35fac",
       "version_major": 2,
       "version_minor": 0
      },
      "text/plain": [
       "HBox(children=(FloatProgress(value=0.0, max=615.0), HTML(value='')))"
      ]
     },
     "metadata": {},
     "output_type": "display_data"
    },
    {
     "name": "stdout",
     "output_type": "stream",
     "text": [
      "\n",
      "Epoch [36/50], gen_loss: 3.4705, disc_loss: 0.6243, real_score: 0.0585, gen_score: 0.8200\n",
      "Result Saved!\n"
     ]
    },
    {
     "data": {
      "application/vnd.jupyter.widget-view+json": {
       "model_id": "bcd620069a2f4dc7892856e355e3a67b",
       "version_major": 2,
       "version_minor": 0
      },
      "text/plain": [
       "HBox(children=(FloatProgress(value=0.0, max=615.0), HTML(value='')))"
      ]
     },
     "metadata": {},
     "output_type": "display_data"
    },
    {
     "name": "stdout",
     "output_type": "stream",
     "text": [
      "\n",
      "Epoch [37/50], gen_loss: 5.3991, disc_loss: 0.6654, real_score: 0.0457, gen_score: 0.7597\n",
      "Result Saved!\n"
     ]
    },
    {
     "data": {
      "application/vnd.jupyter.widget-view+json": {
       "model_id": "aa64639101304987a182e6ef263f88be",
       "version_major": 2,
       "version_minor": 0
      },
      "text/plain": [
       "HBox(children=(FloatProgress(value=0.0, max=615.0), HTML(value='')))"
      ]
     },
     "metadata": {},
     "output_type": "display_data"
    },
    {
     "name": "stdout",
     "output_type": "stream",
     "text": [
      "\n",
      "Epoch [38/50], gen_loss: 3.4812, disc_loss: 1.1569, real_score: 0.4903, gen_score: 0.9783\n",
      "Result Saved!\n"
     ]
    },
    {
     "data": {
      "application/vnd.jupyter.widget-view+json": {
       "model_id": "25088f1948c645c78bb333dd21ffa856",
       "version_major": 2,
       "version_minor": 0
      },
      "text/plain": [
       "HBox(children=(FloatProgress(value=0.0, max=615.0), HTML(value='')))"
      ]
     },
     "metadata": {},
     "output_type": "display_data"
    },
    {
     "name": "stdout",
     "output_type": "stream",
     "text": [
      "\n",
      "Epoch [39/50], gen_loss: 2.3899, disc_loss: 0.6001, real_score: 0.0262, gen_score: 0.6683\n",
      "Result Saved!\n"
     ]
    },
    {
     "data": {
      "application/vnd.jupyter.widget-view+json": {
       "model_id": "d156bbb7cff041ff812bf2ed867b4bbd",
       "version_major": 2,
       "version_minor": 0
      },
      "text/plain": [
       "HBox(children=(FloatProgress(value=0.0, max=615.0), HTML(value='')))"
      ]
     },
     "metadata": {},
     "output_type": "display_data"
    },
    {
     "name": "stdout",
     "output_type": "stream",
     "text": [
      "\n",
      "Epoch [40/50], gen_loss: 2.8957, disc_loss: 0.4044, real_score: 0.0410, gen_score: 0.8488\n",
      "Result Saved!\n"
     ]
    },
    {
     "data": {
      "application/vnd.jupyter.widget-view+json": {
       "model_id": "47852c8e0db844a996abdb6b8e1b1a17",
       "version_major": 2,
       "version_minor": 0
      },
      "text/plain": [
       "HBox(children=(FloatProgress(value=0.0, max=615.0), HTML(value='')))"
      ]
     },
     "metadata": {},
     "output_type": "display_data"
    },
    {
     "name": "stdout",
     "output_type": "stream",
     "text": [
      "\n",
      "Epoch [41/50], gen_loss: 3.0822, disc_loss: 0.5972, real_score: 0.0045, gen_score: 0.8761\n",
      "Result Saved!\n"
     ]
    },
    {
     "data": {
      "application/vnd.jupyter.widget-view+json": {
       "model_id": "fd1aa045b40f406a86c8bc804ba3ef24",
       "version_major": 2,
       "version_minor": 0
      },
      "text/plain": [
       "HBox(children=(FloatProgress(value=0.0, max=615.0), HTML(value='')))"
      ]
     },
     "metadata": {},
     "output_type": "display_data"
    },
    {
     "name": "stdout",
     "output_type": "stream",
     "text": [
      "\n",
      "Epoch [42/50], gen_loss: 2.3120, disc_loss: 0.8579, real_score: 0.4231, gen_score: 0.9564\n",
      "Result Saved!\n"
     ]
    },
    {
     "data": {
      "application/vnd.jupyter.widget-view+json": {
       "model_id": "8d11dc438ab04c35bb579dbaa8a539f5",
       "version_major": 2,
       "version_minor": 0
      },
      "text/plain": [
       "HBox(children=(FloatProgress(value=0.0, max=615.0), HTML(value='')))"
      ]
     },
     "metadata": {},
     "output_type": "display_data"
    },
    {
     "name": "stdout",
     "output_type": "stream",
     "text": [
      "\n",
      "Epoch [43/50], gen_loss: 4.8255, disc_loss: 0.4126, real_score: 0.0557, gen_score: 0.9469\n",
      "Result Saved!\n"
     ]
    },
    {
     "data": {
      "application/vnd.jupyter.widget-view+json": {
       "model_id": "73f75fa068e84a3e85bb8dc22242476c",
       "version_major": 2,
       "version_minor": 0
      },
      "text/plain": [
       "HBox(children=(FloatProgress(value=0.0, max=615.0), HTML(value='')))"
      ]
     },
     "metadata": {},
     "output_type": "display_data"
    },
    {
     "name": "stdout",
     "output_type": "stream",
     "text": [
      "\n",
      "Epoch [44/50], gen_loss: 3.4864, disc_loss: 0.4443, real_score: 0.0786, gen_score: 0.9493\n",
      "Result Saved!\n"
     ]
    },
    {
     "data": {
      "application/vnd.jupyter.widget-view+json": {
       "model_id": "e0bb3e0b41d84d629ff929cf899e1390",
       "version_major": 2,
       "version_minor": 0
      },
      "text/plain": [
       "HBox(children=(FloatProgress(value=0.0, max=615.0), HTML(value='')))"
      ]
     },
     "metadata": {},
     "output_type": "display_data"
    },
    {
     "name": "stdout",
     "output_type": "stream",
     "text": [
      "\n",
      "Epoch [45/50], gen_loss: 2.4480, disc_loss: 0.4181, real_score: 0.1102, gen_score: 0.9389\n",
      "Result Saved!\n"
     ]
    },
    {
     "data": {
      "application/vnd.jupyter.widget-view+json": {
       "model_id": "7a4c3ad914974c598649cd54d13e99c1",
       "version_major": 2,
       "version_minor": 0
      },
      "text/plain": [
       "HBox(children=(FloatProgress(value=0.0, max=615.0), HTML(value='')))"
      ]
     },
     "metadata": {},
     "output_type": "display_data"
    },
    {
     "name": "stdout",
     "output_type": "stream",
     "text": [
      "\n",
      "Epoch [46/50], gen_loss: 4.0184, disc_loss: 0.3493, real_score: 0.0346, gen_score: 0.9494\n",
      "Result Saved!\n"
     ]
    },
    {
     "data": {
      "application/vnd.jupyter.widget-view+json": {
       "model_id": "39632dbfc4cb4891bb145f6f25671112",
       "version_major": 2,
       "version_minor": 0
      },
      "text/plain": [
       "HBox(children=(FloatProgress(value=0.0, max=615.0), HTML(value='')))"
      ]
     },
     "metadata": {},
     "output_type": "display_data"
    },
    {
     "name": "stdout",
     "output_type": "stream",
     "text": [
      "\n",
      "Epoch [47/50], gen_loss: 3.8925, disc_loss: 0.5187, real_score: 0.0859, gen_score: 0.8976\n",
      "Result Saved!\n"
     ]
    },
    {
     "data": {
      "application/vnd.jupyter.widget-view+json": {
       "model_id": "d36c994a16624eb99d16b63f5036d3e4",
       "version_major": 2,
       "version_minor": 0
      },
      "text/plain": [
       "HBox(children=(FloatProgress(value=0.0, max=615.0), HTML(value='')))"
      ]
     },
     "metadata": {},
     "output_type": "display_data"
    },
    {
     "name": "stdout",
     "output_type": "stream",
     "text": [
      "\n",
      "Epoch [48/50], gen_loss: 1.6897, disc_loss: 0.4657, real_score: 0.0137, gen_score: 0.9044\n",
      "Result Saved!\n"
     ]
    },
    {
     "data": {
      "application/vnd.jupyter.widget-view+json": {
       "model_id": "f1b5957e3b73431aaeb1ce58f5997799",
       "version_major": 2,
       "version_minor": 0
      },
      "text/plain": [
       "HBox(children=(FloatProgress(value=0.0, max=615.0), HTML(value='')))"
      ]
     },
     "metadata": {},
     "output_type": "display_data"
    },
    {
     "name": "stdout",
     "output_type": "stream",
     "text": [
      "\n",
      "Epoch [49/50], gen_loss: 3.8152, disc_loss: 0.5453, real_score: 0.1467, gen_score: 0.9863\n",
      "Result Saved!\n"
     ]
    },
    {
     "data": {
      "application/vnd.jupyter.widget-view+json": {
       "model_id": "52d2e8e04a574fcf891a2d0a2d688add",
       "version_major": 2,
       "version_minor": 0
      },
      "text/plain": [
       "HBox(children=(FloatProgress(value=0.0, max=615.0), HTML(value='')))"
      ]
     },
     "metadata": {},
     "output_type": "display_data"
    },
    {
     "name": "stdout",
     "output_type": "stream",
     "text": [
      "\n",
      "Epoch [50/50], gen_loss: 3.3381, disc_loss: 0.5022, real_score: 0.0934, gen_score: 0.7889\n",
      "Result Saved!\n"
     ]
    }
   ],
   "source": [
    "history = train(epochs, learning_rate)"
   ]
  },
  {
   "cell_type": "markdown",
   "metadata": {
    "id": "yK7O3BraQ4VX"
   },
   "source": [
    "# View Results\n",
    "Here, we will view the results for the PokeGAN using IPython's Image class"
   ]
  },
  {
   "cell_type": "code",
   "execution_count": null,
   "metadata": {
    "id": "7qNab0XpQ4VX"
   },
   "outputs": [],
   "source": [
    "from IPython.display import Image"
   ]
  },
  {
   "cell_type": "markdown",
   "metadata": {
    "id": "vM_hp9iVQ4VX"
   },
   "source": [
    "There are some blobs appearing at 10 epochs"
   ]
  },
  {
   "cell_type": "markdown",
   "metadata": {
    "id": "inVFjwIYQ4VX"
   },
   "source": [
    "At 25 epochs the fake pokemon have more defined shapes:"
   ]
  },
  {
   "cell_type": "markdown",
   "metadata": {
    "id": "nSLAR2X2Q4VX"
   },
   "source": [
    "And by 50 epochs, more distinct features start appearing:"
   ]
  },
  {
   "cell_type": "code",
   "execution_count": null,
   "metadata": {
    "id": "sS1dbseeQ4VX",
    "outputId": "e046bb53-9c64-43b6-f08f-24b2e5d61e93"
   },
   "outputs": [
    {
     "data": {
      "image/png": "[encoded data removed]",
      "text/plain": [
       "<IPython.core.display.Image object>"
      ]
     },
     "execution_count": 99,
     "metadata": {},
     "output_type": "execute_result"
    }
   ],
   "source": [
    "Image('result-image-0050.png')"
   ]
  },
  {
   "cell_type": "markdown",
   "metadata": {
    "id": "XntQ_ndKQ4VY"
   },
   "source": [
    "# Performance Analysis\n",
    "\n",
    "Here are some plots to help tune the generator/discriminator. This shows losses and scores over time."
   ]
  },
  {
   "cell_type": "code",
   "execution_count": null,
   "metadata": {
    "id": "YtohwfbtQ4VY"
   },
   "outputs": [],
   "source": [
    "# Extract metrics\n",
    "disc_losses, disc_scores, gen_losses, gen_scores = history"
   ]
  },
  {
   "cell_type": "code",
   "execution_count": null,
   "metadata": {
    "id": "N7ESKw9eQ4VY",
    "outputId": "4cc9fc4e-3c36-44e8-d383-67c7c8a0d29f"
   },
   "outputs": [
    {
     "data": {
      "image/png": "[encoded data removed]",
      "text/plain": [
       "<Figure size 432x288 with 1 Axes>"
      ]
     },
     "metadata": {
      "needs_background": "light"
     },
     "output_type": "display_data"
    }
   ],
   "source": [
    "# Plot generator and discriminator losses\n",
    "plt.plot(disc_losses, '-')\n",
    "plt.plot(gen_losses, '-')\n",
    "plt.xlabel('Epoch')\n",
    "plt.ylabel('Loss')\n",
    "plt.legend(['Discriminator', 'Generator'])\n",
    "plt.title('Losses');"
   ]
  },
  {
   "cell_type": "code",
   "execution_count": null,
   "metadata": {
    "id": "SrYjwCsCQ4VY",
    "outputId": "cb1bd997-afa1-43c5-8dfe-a16b56880ce2"
   },
   "outputs": [
    {
     "data": {
      "image/png": "[encoded data removed]",
      "text/plain": [
       "<Figure size 432x288 with 1 Axes>"
      ]
     },
     "metadata": {
      "needs_background": "light"
     },
     "output_type": "display_data"
    }
   ],
   "source": [
    "# Plots scores vs. epochs\n",
    "plt.plot(disc_scores, '-')\n",
    "plt.plot(gen_scores, '-')\n",
    "plt.xlabel('Epoch')\n",
    "plt.ylabel('Score')\n",
    "plt.legend(['Real', 'Fake'])\n",
    "plt.title('Scores');"
   ]
  },
  {
   "cell_type": "markdown",
   "metadata": {
    "id": "wXvt5JVtQ4VY"
   },
   "source": [
    "# Exporting Data\n",
    "If the model works well, it definitely should be saved for later! Here I will export the weights for both the discriminator and generator, as well as send the notebook to Jovian.ml"
   ]
  },
  {
   "cell_type": "code",
   "execution_count": null,
   "metadata": {
    "id": "HLD80iwIQ4VY"
   },
   "outputs": [],
   "source": [
    "# Save generator and discriminator weights\n",
    "torch.save(discriminator.state_dict(), 'model/discriminator-model.pth')\n",
    "torch.save(generator.state_dict(), 'model/generator-model.pth')"
   ]
  }
 ],
 "metadata": {
  "colab": {
   "provenance": []
  },
  "kernelspec": {
   "display_name": "Python 3",
   "language": "python",
   "name": "python3"
  },
  "language_info": {
   "codemirror_mode": {
    "name": "ipython",
    "version": 3
   },
   "file_extension": ".py",
   "mimetype": "text/x-python",
   "name": "python",
   "nbconvert_exporter": "python",
   "pygments_lexer": "ipython3",
   "version": "3.8.8"
  }
 },
 "nbformat": 4,
 "nbformat_minor": 1
}
